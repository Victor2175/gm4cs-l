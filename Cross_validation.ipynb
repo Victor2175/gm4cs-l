{
 "cells": [
  {
   "cell_type": "markdown",
   "metadata": {},
   "source": [
    "## Reduced Rank Regression"
   ]
  },
  {
   "cell_type": "code",
   "execution_count": 1,
   "metadata": {},
   "outputs": [],
   "source": [
    "import os, sys\n",
    "import pickle as pkl\n",
    "import numpy as np\n",
    "import random\n",
    "import warnings\n",
    "import matplotlib.pyplot as plt\n",
    "from tqdm import tqdm\n",
    "from sklearn.preprocessing import StandardScaler\n",
    "\n",
    "sys.path.append(os.path.join(os.getcwd(), 'utils'))\n",
    "\n",
    "from utils.data_loading import *\n",
    "from utils.data_processing import *\n",
    "from utils.regression import *\n",
    "from utils.animation import *\n",
    "from utils.metrics import *\n",
    "from utils.pipeline import *\n",
    "\n",
    "# autoreload\n",
    "%reload_ext autoreload\n",
    "%autoreload 2\n",
    "\n",
    "# ignore warnings\n",
    "warnings.filterwarnings(\"ignore\", category=RuntimeWarning)\n",
    "# Remove deprecation warnings\n",
    "warnings.filterwarnings(\"ignore\", category=DeprecationWarning)"
   ]
  },
  {
   "cell_type": "code",
   "execution_count": 2,
   "metadata": {},
   "outputs": [
    {
     "name": "stdout",
     "output_type": "stream",
     "text": [
      "Loading data from ssp585_time_series.pkl\n",
      "Data loaded successfully.\n",
      "Filtering data...\n"
     ]
    },
    {
     "name": "stderr",
     "output_type": "stream",
     "text": [
      "100%|██████████| 72/72 [00:00<00:00, 32968.33it/s]\n"
     ]
    },
    {
     "name": "stdout",
     "output_type": "stream",
     "text": [
      "Data filtered. Kept 34 models\n",
      "Creating NaN mask...\n"
     ]
    },
    {
     "name": "stderr",
     "output_type": "stream",
     "text": [
      "100%|██████████| 34/34 [00:01<00:00, 18.32it/s]\n"
     ]
    },
    {
     "name": "stdout",
     "output_type": "stream",
     "text": [
      "NaN mask created.\n",
      "Masking out NaN values...\n"
     ]
    },
    {
     "name": "stderr",
     "output_type": "stream",
     "text": [
      "100%|██████████| 34/34 [00:01<00:00, 19.10it/s]\n"
     ]
    },
    {
     "name": "stdout",
     "output_type": "stream",
     "text": [
      "NaN values masked out.\n",
      "Reshaping data...\n"
     ]
    },
    {
     "name": "stderr",
     "output_type": "stream",
     "text": [
      "100%|██████████| 34/34 [00:03<00:00,  9.73it/s]\n"
     ]
    },
    {
     "name": "stdout",
     "output_type": "stream",
     "text": [
      "Data reshaped.\n",
      "Adding the forced response to the data...\n"
     ]
    },
    {
     "name": "stderr",
     "output_type": "stream",
     "text": [
      "100%|██████████| 34/34 [00:19<00:00,  1.73it/s]\n"
     ]
    },
    {
     "name": "stdout",
     "output_type": "stream",
     "text": [
      "Forced response added.\n",
      "Removing NaN values from the grid...\n"
     ]
    },
    {
     "name": "stderr",
     "output_type": "stream",
     "text": [
      "100%|██████████| 34/34 [00:03<00:00,  9.29it/s]\n"
     ]
    },
    {
     "name": "stdout",
     "output_type": "stream",
     "text": [
      "NaN values removed.\n"
     ]
    }
   ],
   "source": [
    "# Define the data path and filename\n",
    "data_path = os.path.join(os.getcwd(), 'data')\n",
    "filename = 'ssp585_time_series.pkl'\n",
    "\n",
    "# Preprocess the data\n",
    "data, nan_mask = preprocess_data(data_path, filename)"
   ]
  },
  {
   "cell_type": "code",
   "execution_count": 3,
   "metadata": {},
   "outputs": [],
   "source": [
    "# Define the lambda values to test\n",
    "# lambdas = [0.01, 0.1, 1, 10, 50, 100, 200]\n",
    "# ranks = [1, 2, 5, 10, 50, 100]\n",
    "lambdas = [1, 100]\n",
    "ranks = [2, 10]"
   ]
  },
  {
   "cell_type": "code",
   "execution_count": 4,
   "metadata": {},
   "outputs": [
    {
     "name": "stdout",
     "output_type": "stream",
     "text": [
      "Models kept to test the pipeline: ['GISS-E2-2-G', 'EC-Earth3', 'ACCESS-ESM1-5']\n"
     ]
    }
   ],
   "source": [
    "# Only keep 8 random models for the sake of time\n",
    "random.seed(42)\n",
    "models = random.sample(list(data.keys()), 3)\n",
    "subset_data = {model: data[model] for model in models}\n",
    "print(f\"Models kept to test the pipeline: {models}\")"
   ]
  },
  {
   "cell_type": "code",
   "execution_count": null,
   "metadata": {},
   "outputs": [
    {
     "name": "stderr",
     "output_type": "stream",
     "text": [
      "  0%|          | 0/3 [00:00<?, ?it/s]"
     ]
    },
    {
     "name": "stdout",
     "output_type": "stream",
     "text": [
      "Normalizing data...\n"
     ]
    },
    {
     "name": "stderr",
     "output_type": "stream",
     "text": [
      "100%|██████████| 2/2 [00:00<00:00,  5.30it/s]\n",
      "100%|██████████| 1/1 [00:00<00:00, 17.19it/s]\n"
     ]
    },
    {
     "name": "stdout",
     "output_type": "stream",
     "text": [
      "Data normalization completed.\n",
      "Pooling data...\n"
     ]
    },
    {
     "name": "stderr",
     "output_type": "stream",
     "text": [
      "100%|██████████| 2/2 [00:00<00:00, 47662.55it/s]\n"
     ]
    },
    {
     "name": "stdout",
     "output_type": "stream",
     "text": [
      "Data pooled.\n",
      "Performing leave-one-out cross-validation for model: GISS-E2-2-G\n",
      "Fitting OLS...\n",
      "RRR completed.\n",
      "Fitting OLS...\n",
      "RRR completed.\n",
      "Fitting OLS...\n",
      "RRR completed.\n",
      "Fitting OLS...\n",
      "RRR completed.\n"
     ]
    },
    {
     "name": "stderr",
     "output_type": "stream",
     "text": [
      " 33%|███▎      | 1/3 [03:43<07:27, 223.74s/it]"
     ]
    },
    {
     "name": "stdout",
     "output_type": "stream",
     "text": [
      "Normalizing data...\n"
     ]
    },
    {
     "name": "stderr",
     "output_type": "stream",
     "text": [
      "100%|██████████| 2/2 [00:00<00:00,  6.97it/s]\n",
      "100%|██████████| 1/1 [00:00<00:00,  8.60it/s]\n"
     ]
    },
    {
     "name": "stdout",
     "output_type": "stream",
     "text": [
      "Data normalization completed.\n",
      "Pooling data...\n"
     ]
    },
    {
     "name": "stderr",
     "output_type": "stream",
     "text": [
      "100%|██████████| 2/2 [00:00<00:00, 12052.60it/s]\n"
     ]
    },
    {
     "name": "stdout",
     "output_type": "stream",
     "text": [
      "Data pooled.\n",
      "Performing leave-one-out cross-validation for model: EC-Earth3\n",
      "Fitting OLS...\n",
      "RRR completed.\n",
      "Fitting OLS...\n",
      "RRR completed.\n",
      "Fitting OLS...\n",
      "RRR completed.\n",
      "Fitting OLS...\n",
      "RRR completed.\n"
     ]
    },
    {
     "name": "stderr",
     "output_type": "stream",
     "text": [
      " 67%|██████▋   | 2/3 [07:02<03:28, 208.82s/it]"
     ]
    },
    {
     "name": "stdout",
     "output_type": "stream",
     "text": [
      "Normalizing data...\n"
     ]
    },
    {
     "name": "stderr",
     "output_type": "stream",
     "text": [
      "100%|██████████| 2/2 [00:00<00:00,  9.12it/s]\n",
      "100%|██████████| 1/1 [00:00<00:00,  4.15it/s]\n"
     ]
    },
    {
     "name": "stdout",
     "output_type": "stream",
     "text": [
      "Data normalization completed.\n",
      "Pooling data...\n"
     ]
    },
    {
     "name": "stderr",
     "output_type": "stream",
     "text": [
      "100%|██████████| 2/2 [00:00<00:00, 52428.80it/s]\n"
     ]
    },
    {
     "name": "stdout",
     "output_type": "stream",
     "text": [
      "Data pooled.\n",
      "Performing leave-one-out cross-validation for model: ACCESS-ESM1-5\n",
      "Fitting OLS...\n",
      "RRR completed.\n",
      "Fitting OLS...\n",
      "RRR completed.\n",
      "Fitting OLS...\n",
      "RRR completed.\n",
      "Fitting OLS...\n",
      "RRR completed.\n"
     ]
    },
    {
     "name": "stderr",
     "output_type": "stream",
     "text": [
      "100%|██████████| 3/3 [09:44<00:00, 194.84s/it]\n"
     ]
    }
   ],
   "source": [
    "# Perform leave-one-out cross-validation\n",
    "center = True\n",
    "mse_distributions, mse_by_combination = loo_cross_validation(subset_data, lambdas, ranks, center=center)"
   ]
  },
  {
   "cell_type": "code",
   "execution_count": 6,
   "metadata": {},
   "outputs": [
    {
     "name": "stdout",
     "output_type": "stream",
     "text": [
      "Saved MSE distribution KDE plot at output/mse_distributions_kde.png\n"
     ]
    }
   ],
   "source": [
    "# Plot the mse distributions for each combination of lambda and rank\n",
    "plot_mse_distributions(mse_by_combination, ranks, lambdas, output_dir='output')"
   ]
  },
  {
   "cell_type": "code",
   "execution_count": 7,
   "metadata": {},
   "outputs": [
    {
     "name": "stdout",
     "output_type": "stream",
     "text": [
      "Saved MSE distribution plot for model GISS-E2-2-G at output/mse_distributions_GISS-E2-2-G.png\n",
      "Saved MSE distribution plot for model EC-Earth3 at output/mse_distributions_EC-Earth3.png\n",
      "Saved MSE distribution plot for model ACCESS-ESM1-5 at output/mse_distributions_ACCESS-ESM1-5.png\n"
     ]
    }
   ],
   "source": [
    "# Plot and save the MSE distributions for each model\n",
    "plot_mse_distributions_per_model(mse_distributions, models, ranks, lambdas, output_dir='output')"
   ]
  },
  {
   "cell_type": "code",
   "execution_count": 8,
   "metadata": {},
   "outputs": [
    {
     "name": "stdout",
     "output_type": "stream",
     "text": [
      "Saved best hyperparameters at output/best_hyperparameters.txt\n"
     ]
    }
   ],
   "source": [
    "# Select the most robust combination of rank and lambda\n",
    "best_rank_lambda, best_mse = select_robust_hyperparameters(mse_by_combination, mean_weight = 0.7, variance_weight = 0.3, output_dir = 'output')"
   ]
  },
  {
   "cell_type": "code",
   "execution_count": 9,
   "metadata": {},
   "outputs": [
    {
     "name": "stdout",
     "output_type": "stream",
     "text": [
      "Selected best rank: 2, best lambda: 1, with mean MSE: 0.9269\n"
     ]
    }
   ],
   "source": [
    "# Extract the best rank and lambda\n",
    "best_rank, best_lambda = best_rank_lambda\n",
    "print(f\"Selected best rank: {best_rank}, best lambda: {best_lambda}, with mean MSE: {best_mse:.4f}\")"
   ]
  },
  {
   "cell_type": "code",
   "execution_count": 10,
   "metadata": {},
   "outputs": [
    {
     "name": "stderr",
     "output_type": "stream",
     "text": [
      "Final Cross-Validation:   0%|          | 0/3 [00:00<?, ?it/s]"
     ]
    },
    {
     "name": "stdout",
     "output_type": "stream",
     "text": [
      "Normalizing data...\n"
     ]
    },
    {
     "name": "stderr",
     "output_type": "stream",
     "text": [
      "100%|██████████| 2/2 [00:00<00:00,  5.52it/s]\n",
      "100%|██████████| 1/1 [00:00<00:00, 16.91it/s]\n"
     ]
    },
    {
     "name": "stdout",
     "output_type": "stream",
     "text": [
      "Data normalization completed.\n",
      "Pooling data...\n"
     ]
    },
    {
     "name": "stderr",
     "output_type": "stream",
     "text": [
      "100%|██████████| 2/2 [00:00<00:00, 17084.74it/s]\n"
     ]
    },
    {
     "name": "stdout",
     "output_type": "stream",
     "text": [
      "Data pooled.\n",
      "Fitting OLS...\n",
      "RRR completed.\n"
     ]
    },
    {
     "name": "stderr",
     "output_type": "stream",
     "text": [
      "Final Cross-Validation:  33%|███▎      | 1/3 [00:36<01:13, 36.94s/it]"
     ]
    },
    {
     "name": "stdout",
     "output_type": "stream",
     "text": [
      "Normalizing data...\n"
     ]
    },
    {
     "name": "stderr",
     "output_type": "stream",
     "text": [
      "100%|██████████| 2/2 [00:00<00:00,  7.26it/s]\n",
      "100%|██████████| 1/1 [00:00<00:00,  8.67it/s]\n"
     ]
    },
    {
     "name": "stdout",
     "output_type": "stream",
     "text": [
      "Data normalization completed.\n",
      "Pooling data...\n"
     ]
    },
    {
     "name": "stderr",
     "output_type": "stream",
     "text": [
      "100%|██████████| 2/2 [00:00<00:00, 64527.75it/s]\n"
     ]
    },
    {
     "name": "stdout",
     "output_type": "stream",
     "text": [
      "Data pooled.\n",
      "Fitting OLS...\n",
      "RRR completed.\n"
     ]
    },
    {
     "name": "stderr",
     "output_type": "stream",
     "text": [
      "Final Cross-Validation:  67%|██████▋   | 2/3 [01:06<00:32, 32.59s/it]"
     ]
    },
    {
     "name": "stdout",
     "output_type": "stream",
     "text": [
      "Normalizing data...\n"
     ]
    },
    {
     "name": "stderr",
     "output_type": "stream",
     "text": [
      "100%|██████████| 2/2 [00:00<00:00, 14.63it/s]\n",
      "100%|██████████| 1/1 [00:00<00:00,  6.51it/s]\n"
     ]
    },
    {
     "name": "stdout",
     "output_type": "stream",
     "text": [
      "Data normalization completed.\n",
      "Pooling data...\n"
     ]
    },
    {
     "name": "stderr",
     "output_type": "stream",
     "text": [
      "100%|██████████| 2/2 [00:00<00:00, 18196.55it/s]\n"
     ]
    },
    {
     "name": "stdout",
     "output_type": "stream",
     "text": [
      "Data pooled.\n",
      "Fitting OLS...\n",
      "RRR completed.\n"
     ]
    },
    {
     "name": "stderr",
     "output_type": "stream",
     "text": [
      "Final Cross-Validation: 100%|██████████| 3/3 [01:25<00:00, 28.66s/it]\n"
     ]
    }
   ],
   "source": [
    "# Perform final cross-validation using the best rank and lambda\n",
    "final_mse_losses = final_cross_validation(subset_data, best_rank, best_lambda)"
   ]
  },
  {
   "cell_type": "code",
   "execution_count": 11,
   "metadata": {},
   "outputs": [
    {
     "name": "stdout",
     "output_type": "stream",
     "text": [
      "Saved final MSE distribution plot at output/final_mse_distribution.png\n"
     ]
    }
   ],
   "source": [
    "plot_final_mse_distribution(final_mse_losses, output_dir='output')"
   ]
  },
  {
   "cell_type": "code",
   "execution_count": 12,
   "metadata": {},
   "outputs": [
    {
     "name": "stdout",
     "output_type": "stream",
     "text": [
      "Normalizing data...\n"
     ]
    },
    {
     "name": "stderr",
     "output_type": "stream",
     "text": [
      "100%|██████████| 2/2 [00:00<00:00,  8.11it/s]\n",
      "100%|██████████| 1/1 [00:00<00:00, 22.75it/s]\n"
     ]
    },
    {
     "name": "stdout",
     "output_type": "stream",
     "text": [
      "Data normalization completed.\n",
      "Pooling data...\n"
     ]
    },
    {
     "name": "stderr",
     "output_type": "stream",
     "text": [
      "100%|██████████| 2/2 [00:00<00:00, 32768.00it/s]\n"
     ]
    },
    {
     "name": "stdout",
     "output_type": "stream",
     "text": [
      "Data pooled.\n",
      "Fitting OLS...\n",
      "RRR completed.\n",
      "Re-adding NaN values to the grid...\n",
      "Re-adding NaN values to the grid...\n",
      "Re-adding NaN values to the grid...\n",
      "Re-adding NaN values to the grid...\n",
      "Re-adding NaN values to the grid...\n",
      "Re-adding NaN values to the grid...\n",
      "Re-adding NaN values to the grid...\n",
      "Re-adding NaN values to the grid...\n",
      "Re-adding NaN values to the grid...\n",
      "Animations saved in output/animations\n"
     ]
    }
   ],
   "source": [
    "# Chose a random model to test on\n",
    "test_model = random.choice(models)\n",
    "\n",
    "# Generate and save animations for the test model\n",
    "generate_and_save_animations(\n",
    "    data=subset_data,\n",
    "    test_model=test_model,\n",
    "    best_rank=best_rank,\n",
    "    best_lambda=best_lambda,\n",
    "    nan_mask=nan_mask,\n",
    "    num_runs=3,\n",
    "    output_dir=\"output\",\n",
    "    color_limits=(-2, 2)\n",
    ")"
   ]
  }
 ],
 "metadata": {
  "kernelspec": {
   "display_name": "main",
   "language": "python",
   "name": "python3"
  },
  "language_info": {
   "codemirror_mode": {
    "name": "ipython",
    "version": 3
   },
   "file_extension": ".py",
   "mimetype": "text/x-python",
   "name": "python",
   "nbconvert_exporter": "python",
   "pygments_lexer": "ipython3",
   "version": "3.10.16"
  }
 },
 "nbformat": 4,
 "nbformat_minor": 2
}
