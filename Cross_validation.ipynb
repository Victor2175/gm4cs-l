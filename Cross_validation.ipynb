{
 "cells": [
  {
   "cell_type": "markdown",
   "metadata": {},
   "source": [
    "## Reduced Rank Regression"
   ]
  },
  {
   "cell_type": "code",
   "execution_count": 1,
   "metadata": {},
   "outputs": [],
   "source": [
    "import os\n",
    "import pickle as pkl\n",
    "import numpy as np\n",
    "import random\n",
    "import matplotlib.pyplot as plt\n",
    "from tqdm import tqdm\n",
    "from sklearn.preprocessing import StandardScaler\n",
    "from utils.helpers import *\n",
    "\n",
    "# autoreload\n",
    "%reload_ext autoreload\n",
    "%autoreload 2"
   ]
  },
  {
   "cell_type": "code",
   "execution_count": 2,
   "metadata": {},
   "outputs": [
    {
     "name": "stdout",
     "output_type": "stream",
     "text": [
      "Loading data from ssp585_time_series.pkl\n",
      "Data loaded successfully.\n",
      "Filtering data...\n"
     ]
    },
    {
     "name": "stderr",
     "output_type": "stream",
     "text": [
      "100%|██████████| 72/72 [00:00<00:00, 67847.65it/s]\n"
     ]
    },
    {
     "name": "stdout",
     "output_type": "stream",
     "text": [
      "Data filtered. Kept 34 models\n",
      "Creating NaN mask...\n"
     ]
    },
    {
     "name": "stderr",
     "output_type": "stream",
     "text": [
      "100%|██████████| 34/34 [00:01<00:00, 20.25it/s]\n"
     ]
    },
    {
     "name": "stdout",
     "output_type": "stream",
     "text": [
      "NaN mask created.\n",
      "Masking out NaN values...\n"
     ]
    },
    {
     "name": "stderr",
     "output_type": "stream",
     "text": [
      "100%|██████████| 34/34 [00:01<00:00, 21.73it/s]\n"
     ]
    },
    {
     "name": "stdout",
     "output_type": "stream",
     "text": [
      "NaN values masked out.\n",
      "Reshaping data...\n"
     ]
    },
    {
     "name": "stderr",
     "output_type": "stream",
     "text": [
      "100%|██████████| 34/34 [00:03<00:00,  9.45it/s]\n"
     ]
    },
    {
     "name": "stdout",
     "output_type": "stream",
     "text": [
      "Data reshaped.\n",
      "Adding the forced response to the data...\n"
     ]
    },
    {
     "name": "stderr",
     "output_type": "stream",
     "text": [
      "100%|██████████| 34/34 [00:05<00:00,  6.49it/s]\n"
     ]
    },
    {
     "name": "stdout",
     "output_type": "stream",
     "text": [
      "Forced response added.\n",
      "Removing NaN values from the grid...\n"
     ]
    },
    {
     "name": "stderr",
     "output_type": "stream",
     "text": [
      "100%|██████████| 34/34 [00:01<00:00, 26.26it/s]\n"
     ]
    },
    {
     "name": "stdout",
     "output_type": "stream",
     "text": [
      "NaN values removed.\n"
     ]
    }
   ],
   "source": [
    "# Define the data path and filename\n",
    "data_path = os.path.join(os.getcwd(), 'data')\n",
    "filename = 'ssp585_time_series.pkl'\n",
    "\n",
    "# Preprocess the data\n",
    "data, nan_mask = preprocess_data(data_path, filename)"
   ]
  },
  {
   "cell_type": "code",
   "execution_count": 3,
   "metadata": {},
   "outputs": [],
   "source": [
    "# Define the lambda values to test\n",
    "lambdas = [0.01, 0.1, 1, 10]"
   ]
  },
  {
   "cell_type": "code",
   "execution_count": 8,
   "metadata": {},
   "outputs": [
    {
     "name": "stdout",
     "output_type": "stream",
     "text": [
      "Models kept to test the pipeline: ['GISS-E2-2-G', 'EC-Earth3', 'ACCESS-ESM1-5', 'CESM2-FV2', 'NorCPM1', 'CESM2', 'CAS-ESM2-0']\n"
     ]
    }
   ],
   "source": [
    "# Only keep 7 random models for the sake of time\n",
    "random.seed(42)\n",
    "models = random.sample(list(data.keys()), 7)\n",
    "subset_data = {model: data[model] for model in models}\n",
    "print(f\"Models kept to test the pipeline: {models}\")"
   ]
  },
  {
   "cell_type": "code",
   "execution_count": null,
   "metadata": {},
   "outputs": [
    {
     "name": "stderr",
     "output_type": "stream",
     "text": [
      "  0%|          | 0/7 [00:00<?, ?it/s]"
     ]
    },
    {
     "name": "stdout",
     "output_type": "stream",
     "text": [
      "Normalizing data...\n"
     ]
    },
    {
     "name": "stderr",
     "output_type": "stream",
     "text": []
    },
    {
     "name": "stderr",
     "output_type": "stream",
     "text": [
      "100%|██████████| 6/6 [00:00<00:00, 13.36it/s]\n",
      "100%|██████████| 1/1 [00:00<00:00, 23.29it/s]\n"
     ]
    },
    {
     "name": "stdout",
     "output_type": "stream",
     "text": [
      "Data normalization completed.\n",
      "Pooling data...\n"
     ]
    },
    {
     "name": "stderr",
     "output_type": "stream",
     "text": [
      "100%|██████████| 6/6 [00:00<00:00, 167772.16it/s]\n",
      "100%|██████████| 6/6 [00:00<00:00, 154391.56it/s]\n"
     ]
    },
    {
     "name": "stdout",
     "output_type": "stream",
     "text": [
      "Data pooled.\n",
      "Performing leave-one-out cross-validation for model: GISS-E2-2-G\n",
      "Fitting OLS...\n",
      "RRR completed.\n",
      "Fitting OLS...\n"
     ]
    }
   ],
   "source": [
    "# Perform leave-one-out cross-validation\n",
    "mse_distributions = loo_cross_validation(subset_data, lambdas, rank=15)"
   ]
  },
  {
   "cell_type": "code",
   "execution_count": null,
   "metadata": {},
   "outputs": [],
   "source": [
    "# Plot the MSE distributions for each model\n",
    "for model in models:\n",
    "    plt.figure(figsize=(10, 6))\n",
    "    for lambda_ in lambdas:\n",
    "        if model in mse_distributions[lambda_]:\n",
    "            mse_values = mse_distributions[lambda_][model]\n",
    "            plt.hist(mse_values, bins=20, alpha=0.5, label=f'Lambda: {lambda_}')\n",
    "    plt.xlabel('MSE')\n",
    "    plt.ylabel('Frequency')\n",
    "    plt.title(f'MSE Distribution for Model: {model}')\n",
    "    plt.legend()\n",
    "    plt.show()\n",
    "\n",
    "# Calculate the best lambda overall\n",
    "best_lambda = None\n",
    "best_mse = float('inf')\n",
    "for lambda_, model_mse in mse_distributions.items():\n",
    "    all_mse_values = [mse for mse_list in model_mse.values() for mse in mse_list]\n",
    "    mean_mse = np.mean(all_mse_values)\n",
    "    if mean_mse < best_mse:\n",
    "        best_mse = mean_mse\n",
    "        best_lambda = lambda_\n",
    "\n",
    "print(f\"Best lambda overall: {best_lambda}, MSE: {best_mse:.4f}\")"
   ]
  }
 ],
 "metadata": {
  "kernelspec": {
   "display_name": "main",
   "language": "python",
   "name": "python3"
  },
  "language_info": {
   "codemirror_mode": {
    "name": "ipython",
    "version": 3
   },
   "file_extension": ".py",
   "mimetype": "text/x-python",
   "name": "python",
   "nbconvert_exporter": "python",
   "pygments_lexer": "ipython3",
   "version": "3.10.16"
  }
 },
 "nbformat": 4,
 "nbformat_minor": 2
}
