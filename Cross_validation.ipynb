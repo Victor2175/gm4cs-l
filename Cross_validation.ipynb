{
 "cells": [
  {
   "cell_type": "markdown",
   "metadata": {},
   "source": [
    "## Reduced Rank Regression"
   ]
  },
  {
   "cell_type": "code",
   "execution_count": null,
   "metadata": {},
   "outputs": [],
   "source": [
    "import os, sys\n",
    "import pickle as pkl\n",
    "import numpy as np\n",
    "import random\n",
    "import warnings\n",
    "import matplotlib.pyplot as plt\n",
    "from tqdm import tqdm\n",
    "from sklearn.preprocessing import StandardScaler\n",
    "\n",
    "sys.path.append(os.path.join(os.getcwd(), 'utils'))\n",
    "\n",
    "from utils.data_loading import *\n",
    "from utils.data_processing import *\n",
    "from utils.regression import *\n",
    "from utils.animation import *\n",
    "from utils.metrics import *\n",
    "from utils.pipeline import *\n",
    "\n",
    "# autoreload\n",
    "%reload_ext autoreload\n",
    "%autoreload 2\n",
    "\n",
    "# ignore warnings\n",
    "warnings.filterwarnings(\"ignore\", category=RuntimeWarning)\n",
    "# Remove deprecation warnings\n",
    "warnings.filterwarnings(\"ignore\", category=DeprecationWarning)"
   ]
  },
  {
   "cell_type": "code",
   "execution_count": null,
   "metadata": {},
   "outputs": [],
   "source": [
    "# Define the data path and filename\n",
    "data_path = os.path.join(os.getcwd(), 'data')\n",
    "filename = 'ssp585_time_series.pkl'\n",
    "\n",
    "# Preprocess the data\n",
    "data, nan_mask = preprocess_data(data_path, filename)"
   ]
  },
  {
   "cell_type": "code",
   "execution_count": null,
   "metadata": {},
   "outputs": [],
   "source": [
    "# Define the lambda values to test\n",
    "# lambdas = [0.01, 0.1, 1, 10, 50, 100, 200]\n",
    "# ranks = [1, 2, 5, 10, 50, 100]\n",
    "lambdas = [1, 100]\n",
    "ranks = [2, 10]"
   ]
  },
  {
   "cell_type": "code",
   "execution_count": null,
   "metadata": {},
   "outputs": [],
   "source": [
    "# Only keep 8 random models for the sake of time\n",
    "random.seed(42)\n",
    "models = random.sample(list(data.keys()), 3)\n",
    "subset_data = {model: data[model] for model in models}\n",
    "print(f\"Models kept to test the pipeline: {models}\")"
   ]
  },
  {
   "cell_type": "code",
   "execution_count": null,
   "metadata": {},
   "outputs": [],
   "source": [
    "# Perform leave-one-out cross-validation\n",
    "mse_distributions, mse_by_combination = loo_cross_validation(subset_data, lambdas, ranks)"
   ]
  },
  {
   "cell_type": "code",
   "execution_count": null,
   "metadata": {},
   "outputs": [],
   "source": [
    "# Plot the mse distributions for each combination of lambda and rank\n",
    "plot_mse_distributions(mse_by_combination, ranks, lambdas, output_dir='output')"
   ]
  },
  {
   "cell_type": "code",
   "execution_count": null,
   "metadata": {},
   "outputs": [],
   "source": [
    "# Plot and save the MSE distributions for each model\n",
    "plot_mse_distributions_per_model(mse_distributions, models, ranks, lambdas, output_dir='output')"
   ]
  },
  {
   "cell_type": "code",
   "execution_count": null,
   "metadata": {},
   "outputs": [],
   "source": [
    "# Select the most robust combination of rank and lambda\n",
    "best_rank_lambda, best_mse = select_robust_hyperparameters(mse_by_combination, mean_weight = 0.7, variance_weight = 0.3, output_dir = 'output')"
   ]
  },
  {
   "cell_type": "code",
   "execution_count": null,
   "metadata": {},
   "outputs": [],
   "source": [
    "# Extract the best rank and lambda\n",
    "best_rank, best_lambda = best_rank_lambda\n",
    "print(f\"Selected best rank: {best_rank}, best lambda: {best_lambda}, with mean MSE: {best_mse:.4f}\")"
   ]
  },
  {
   "cell_type": "code",
   "execution_count": null,
   "metadata": {},
   "outputs": [],
   "source": [
    "# Perform final cross-validation using the best rank and lambda\n",
    "final_mse_losses = final_cross_validation(subset_data, best_rank, best_lambda)"
   ]
  },
  {
   "cell_type": "code",
   "execution_count": null,
   "metadata": {},
   "outputs": [],
   "source": [
    "plot_final_mse_distribution(final_mse_losses, output_dir='output')"
   ]
  },
  {
   "cell_type": "code",
   "execution_count": null,
   "metadata": {},
   "outputs": [],
   "source": [
    "# Chose a random model to test on\n",
    "test_model = random.choice(models)\n",
    "\n",
    "# Generate and save animations for the test model\n",
    "generate_and_save_animations(\n",
    "    data=subset_data,\n",
    "    test_model=test_model,\n",
    "    best_rank=best_rank,\n",
    "    best_lambda=best_lambda,\n",
    "    nan_mask=nan_mask,\n",
    "    num_runs=3,\n",
    "    output_dir=\"output\",\n",
    "    color_limits=(-2, 2)\n",
    ")"
   ]
  }
 ],
 "metadata": {
  "kernelspec": {
   "display_name": "main",
   "language": "python",
   "name": "python3"
  },
  "language_info": {
   "codemirror_mode": {
    "name": "ipython",
    "version": 3
   },
   "file_extension": ".py",
   "mimetype": "text/x-python",
   "name": "python",
   "nbconvert_exporter": "python",
   "pygments_lexer": "ipython3",
   "version": "3.10.16"
  }
 },
 "nbformat": 4,
 "nbformat_minor": 2
}
