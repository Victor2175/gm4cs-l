{
 "cells": [
  {
   "cell_type": "markdown",
   "metadata": {},
   "source": [
    "## Reduced Rank Regression"
   ]
  },
  {
   "cell_type": "code",
   "execution_count": 1,
   "metadata": {},
   "outputs": [],
   "source": [
    "import os\n",
    "import pickle as pkl\n",
    "import numpy as np\n",
    "import random\n",
    "import matplotlib.pyplot as plt\n",
    "from tqdm import tqdm\n",
    "from sklearn.preprocessing import StandardScaler\n",
    "from utils.helpers import *\n",
    "\n",
    "# autoreload\n",
    "%reload_ext autoreload\n",
    "%autoreload 2"
   ]
  },
  {
   "cell_type": "code",
   "execution_count": 2,
   "metadata": {},
   "outputs": [
    {
     "name": "stdout",
     "output_type": "stream",
     "text": [
      "Loading the data...\n",
      "Data loaded successfully!\n"
     ]
    }
   ],
   "source": [
    "# Load the data\n",
    "current_dir = os.getcwd()\n",
    "print(\"Loading the data...\")\n",
    "data_path = os.path.join(current_dir, 'data')\n",
    "data = load_data(data_path, 'ssp585_time_series.pkl')\n",
    "print(\"Data loaded successfully!\")"
   ]
  },
  {
   "cell_type": "code",
   "execution_count": 3,
   "metadata": {},
   "outputs": [
    {
     "name": "stderr",
     "output_type": "stream",
     "text": [
      "100%|██████████| 72/72 [00:00<00:00, 85211.59it/s]\n"
     ]
    }
   ],
   "source": [
    "filtered_data = filter_data(data)"
   ]
  },
  {
   "cell_type": "code",
   "execution_count": 4,
   "metadata": {},
   "outputs": [
    {
     "name": "stdout",
     "output_type": "stream",
     "text": [
      "Shape of the first run in the first model: (165, 72, 144)\n"
     ]
    }
   ],
   "source": [
    "# Print the shape of the first run in the first model of filtered_data\n",
    "first_model = list(filtered_data.keys())[0]\n",
    "first_run = list(filtered_data[first_model].keys())[0]\n",
    "print(f\"Shape of the first run in the first model: {filtered_data[first_model][first_run].shape}\")"
   ]
  },
  {
   "cell_type": "code",
   "execution_count": 5,
   "metadata": {},
   "outputs": [
    {
     "name": "stderr",
     "output_type": "stream",
     "text": [
      "100%|██████████| 34/34 [00:02<00:00, 16.53it/s]\n"
     ]
    }
   ],
   "source": [
    "# Create a NaN mask to remove any cells which have 1 >= NaNs\n",
    "\n",
    "nan_mask = create_nan_mask(filtered_data)"
   ]
  },
  {
   "cell_type": "code",
   "execution_count": 6,
   "metadata": {},
   "outputs": [
    {
     "name": "stderr",
     "output_type": "stream",
     "text": [
      "100%|██████████| 34/34 [00:01<00:00, 25.16it/s]\n"
     ]
    }
   ],
   "source": [
    "# Apply the NaN mask to every single run (modifications done in place for memory efficiency)\n",
    "\n",
    "masked_data = mask_out_nans(filtered_data, nan_mask)"
   ]
  },
  {
   "cell_type": "code",
   "execution_count": 7,
   "metadata": {},
   "outputs": [
    {
     "name": "stdout",
     "output_type": "stream",
     "text": [
      "Shape of the first run in the first model: (165, 72, 144)\n"
     ]
    }
   ],
   "source": [
    "# Print the shape of the first run in the first model of masked_data\n",
    "first_model = list(masked_data.keys())[0]\n",
    "first_run = list(masked_data[first_model].keys())[0]\n",
    "print(f\"Shape of the first run in the first model: {masked_data[first_model][first_run].shape}\")"
   ]
  },
  {
   "cell_type": "markdown",
   "metadata": {},
   "source": [
    "## The NaN mask has been applied and only the models with more than 4 runs have been kept"
   ]
  },
  {
   "cell_type": "code",
   "execution_count": 8,
   "metadata": {},
   "outputs": [
    {
     "name": "stdout",
     "output_type": "stream",
     "text": [
      "There are exactly 34 models of the 72 that remain.\n"
     ]
    }
   ],
   "source": [
    "print(f\"There are exactly {len(masked_data.keys())} models of the {len(data.keys())} that remain.\")"
   ]
  },
  {
   "cell_type": "code",
   "execution_count": 9,
   "metadata": {},
   "outputs": [
    {
     "name": "stderr",
     "output_type": "stream",
     "text": [
      "100%|██████████| 34/34 [00:03<00:00,  8.77it/s]\n"
     ]
    }
   ],
   "source": [
    "reshaped_data = reshape_data(masked_data)"
   ]
  },
  {
   "cell_type": "code",
   "execution_count": 10,
   "metadata": {},
   "outputs": [
    {
     "name": "stdout",
     "output_type": "stream",
     "text": [
      "Selected model: CanESM5-1, which has 72 runs.\n"
     ]
    }
   ],
   "source": [
    "example_model = 'CanESM5-1'\n",
    "example_model_data = reshaped_data[example_model]\n",
    "print(f\"Selected model: {example_model}, which has {len(example_model_data)} runs.\")"
   ]
  },
  {
   "cell_type": "code",
   "execution_count": 11,
   "metadata": {},
   "outputs": [
    {
     "data": {
      "text/plain": [
       "(165, 10368)"
      ]
     },
     "execution_count": 11,
     "metadata": {},
     "output_type": "execute_result"
    }
   ],
   "source": [
    "first_example_model_run = example_model_data[list(example_model_data.keys())[0]]\n",
    "first_example_model_run.shape # Shape: (Time x (Latitude x Longitude))"
   ]
  },
  {
   "cell_type": "markdown",
   "metadata": {},
   "source": [
    "### Calculate the forced response for each model, assuming that it is the mean of all the runs"
   ]
  },
  {
   "cell_type": "code",
   "execution_count": 12,
   "metadata": {},
   "outputs": [
    {
     "name": "stderr",
     "output_type": "stream",
     "text": [
      "100%|██████████| 34/34 [00:03<00:00,  9.52it/s]\n"
     ]
    }
   ],
   "source": [
    "data_forced_responses = add_forced_response(reshaped_data) # The forced response is not correctly normalized yet (this is done by the normalize function below)"
   ]
  },
  {
   "cell_type": "code",
   "execution_count": 13,
   "metadata": {},
   "outputs": [
    {
     "name": "stdout",
     "output_type": "stream",
     "text": [
      "Shape of the random run: (165, 10368)\n"
     ]
    }
   ],
   "source": [
    "# Print the shape of a random run from a random model\n",
    "\n",
    "random_model = random.choice(list(data_forced_responses.keys()))\n",
    "random_run = random.choice(list(data_forced_responses[random_model].keys()))\n",
    "print(f\"Shape of the random run: {data_forced_responses[random_model][random_run].shape}\")"
   ]
  },
  {
   "cell_type": "code",
   "execution_count": 14,
   "metadata": {},
   "outputs": [
    {
     "data": {
      "image/png": "[encoded data removed]",
      "text/plain": [
       "<Figure size 1000x600 with 2 Axes>"
      ]
     },
     "metadata": {},
     "output_type": "display_data"
    }
   ],
   "source": [
    "# Reshape the data to the original grid shape\n",
    "data_grid = data_forced_responses[random_model][random_run][120].reshape(72, 144)\n",
    "\n",
    "# Plot the data using plt.imshow\n",
    "plt.figure(figsize=(10, 6))\n",
    "plt.imshow(data_grid, cmap='viridis')\n",
    "plt.colorbar(label='Value')\n",
    "plt.title(f'Data for Model: {random_model}, Run: {random_run}')\n",
    "plt.xlabel('Longitude')\n",
    "plt.ylabel('Latitude')\n",
    "plt.show()"
   ]
  },
  {
   "cell_type": "markdown",
   "metadata": {},
   "source": [
    "## At this point, the data still contains NaNs, corresponding to the continents"
   ]
  },
  {
   "cell_type": "code",
   "execution_count": 15,
   "metadata": {},
   "outputs": [
    {
     "name": "stderr",
     "output_type": "stream",
     "text": [
      "100%|██████████| 34/34 [00:01<00:00, 30.76it/s]\n"
     ]
    }
   ],
   "source": [
    "data_without_nans = remove_nans_from_grid(data_forced_responses, nan_mask)"
   ]
  },
  {
   "cell_type": "code",
   "execution_count": 16,
   "metadata": {},
   "outputs": [
    {
     "name": "stdout",
     "output_type": "stream",
     "text": [
      "The shape of the data without NaNs: (165, 6523)\n"
     ]
    }
   ],
   "source": [
    "# Print the shape of a random run from a random model (same as above)\n",
    "print(f\"The shape of the data without NaNs: {data_without_nans[random_model][random_run].shape}\")"
   ]
  },
  {
   "cell_type": "markdown",
   "metadata": {},
   "source": [
    "## Now the NaNs have been completely removed from the data"
   ]
  },
  {
   "cell_type": "markdown",
   "metadata": {},
   "source": [
    "### The data is now in the shape : Time x # of grid cells without NaNs"
   ]
  },
  {
   "cell_type": "code",
   "execution_count": 17,
   "metadata": {},
   "outputs": [
    {
     "name": "stdout",
     "output_type": "stream",
     "text": [
      "Training models: ['ICON-ESM-LR', 'EC-Earth3', 'CMCC-CM2-SR5', 'ACCESS-CM2', 'CESM2', 'CNRM-ESM2-1', 'IPSL-CM6A-LR', 'GISS-E2-2-G', 'CNRM-CM6-1', 'CanESM5-1', 'E3SM-2-0-NARRM', 'MIROC-ES2L', 'GISS-E2-1-H', 'E3SM-2-0', 'GISS-E2-1-G', 'EC-Earth3-Veg', 'ACCESS-ESM1-5', 'HadGEM3-GC31-MM', 'FGOALS-g3', 'E3SM-1-0', 'MPI-ESM1-2-HR', 'CanESM5', 'CAS-ESM2-0', 'MIROC6', 'NESM3', 'GISS-E2-2-H', 'MPI-ESM1-2-LR', 'AWI-CM-1-1-MR', 'UKESM1-0-LL', 'NorCPM1', 'INM-CM5-0', 'MRI-ESM2-0', 'CESM2-FV2']\n",
      "Testing model: HadGEM3-GC31-LL\n"
     ]
    }
   ],
   "source": [
    "# Select one of the models randomly for testing and the rest for training according to the leave-one-out strategy\n",
    "test_model = random.choice(list(data_without_nans.keys()))\n",
    "train_models = [model for model in data_without_nans.keys() if model != test_model]\n",
    "\n",
    "# Create the training and testing datasets\n",
    "train_data = {model: data_without_nans[model] for model in train_models}\n",
    "test_data = {test_model: data_without_nans[test_model]}\n",
    "\n",
    "print(f\"Training models: {train_models}\")\n",
    "print(f\"Testing model: {test_model}\")"
   ]
  },
  {
   "cell_type": "code",
   "execution_count": 40,
   "metadata": {},
   "outputs": [
    {
     "name": "stderr",
     "output_type": "stream",
     "text": [
      "  0%|          | 0/33 [00:00<?, ?it/s]"
     ]
    },
    {
     "name": "stdout",
     "output_type": "stream",
     "text": [
      "6\n",
      "(990, 6523)\n"
     ]
    },
    {
     "name": "stderr",
     "output_type": "stream",
     "text": [
      "\n"
     ]
    },
    {
     "ename": "TypeError",
     "evalue": "object of type 'numpy.float64' has no len()",
     "output_type": "error",
     "traceback": [
      "\u001b[0;31m---------------------------------------------------------------------------\u001b[0m",
      "\u001b[0;31mTypeError\u001b[0m                                 Traceback (most recent call last)",
      "Cell \u001b[0;32mIn[40], line 2\u001b[0m\n\u001b[1;32m      1\u001b[0m \u001b[38;5;66;03m# Normalize the data\u001b[39;00m\n\u001b[0;32m----> 2\u001b[0m normalized_train_data, normalized_test_data, training_statistics, testing_statistics \u001b[38;5;241m=\u001b[39m \u001b[43mnormalize_data\u001b[49m\u001b[43m(\u001b[49m\u001b[43mtrain_data\u001b[49m\u001b[43m,\u001b[49m\u001b[43m \u001b[49m\u001b[43mtest_data\u001b[49m\u001b[43m)\u001b[49m\n",
      "File \u001b[0;32m~/Documents/GitHub/gm4cs-l/utils/helpers.py:232\u001b[0m, in \u001b[0;36mnormalize_data\u001b[0;34m(train_data, test_data)\u001b[0m\n\u001b[1;32m    230\u001b[0m \u001b[38;5;66;03m# Compute the mean and std for each grid square and each timestamp for the current model\u001b[39;00m\n\u001b[1;32m    231\u001b[0m mean_and_time \u001b[38;5;241m=\u001b[39m np\u001b[38;5;241m.\u001b[39mnanmean(all_runs, axis\u001b[38;5;241m=\u001b[39m(\u001b[38;5;241m0\u001b[39m, \u001b[38;5;241m1\u001b[39m)) \u001b[38;5;66;03m# Shape (d,)\u001b[39;00m\n\u001b[0;32m--> 232\u001b[0m \u001b[38;5;28mprint\u001b[39m(\u001b[38;5;28;43mlen\u001b[39;49m\u001b[43m(\u001b[49m\u001b[43mmean_and_time\u001b[49m\u001b[43m)\u001b[49m)\n\u001b[1;32m    233\u001b[0m std_ \u001b[38;5;241m=\u001b[39m np\u001b[38;5;241m.\u001b[39mnanstd(all_runs, axis\u001b[38;5;241m=\u001b[39m\u001b[38;5;241m0\u001b[39m) \u001b[38;5;66;03m# Shape (T x d)\u001b[39;00m\n\u001b[1;32m    234\u001b[0m \u001b[38;5;28mprint\u001b[39m(std_\u001b[38;5;241m.\u001b[39mshape)\n",
      "\u001b[0;31mTypeError\u001b[0m: object of type 'numpy.float64' has no len()"
     ]
    }
   ],
   "source": [
    "# Normalize the data\n",
    "normalized_train_data, normalized_test_data, training_statistics, testing_statistics = normalize_data(train_data, test_data)"
   ]
  },
  {
   "cell_type": "code",
   "execution_count": 41,
   "metadata": {},
   "outputs": [
    {
     "data": {
      "text/plain": [
       "695"
      ]
     },
     "execution_count": 41,
     "metadata": {},
     "output_type": "execute_result"
    }
   ],
   "source": [
    "sum([len(train_data[model]) for model in train_data.keys()])"
   ]
  },
  {
   "cell_type": "code",
   "execution_count": 38,
   "metadata": {},
   "outputs": [
    {
     "name": "stdout",
     "output_type": "stream",
     "text": [
      "Total number of runs in the training dataset: 695\n",
      "Total number of runs in the testing dataset: 56\n"
     ]
    }
   ],
   "source": [
    "# Print the total number of runs (for all models) in the training and testing datasets\n",
    "train_runs = sum([len(train_data[model]) for model in train_data.keys()])\n",
    "test_runs = sum([len(test_data[model]) for model in test_data.keys()])\n",
    "print(f\"Total number of runs in the training dataset: {train_runs}\")\n",
    "print(f\"Total number of runs in the testing dataset: {test_runs}\")"
   ]
  },
  {
   "cell_type": "markdown",
   "metadata": {},
   "source": [
    "## Now that the data has been normalized (and NaN values removed), it's time to do the Reduced Rank Regression (RRR)"
   ]
  },
  {
   "cell_type": "code",
   "execution_count": null,
   "metadata": {},
   "outputs": [],
   "source": [
    "# First pool the data together\n",
    "X_full, Y_full = pool_data(normalized_train_data)"
   ]
  },
  {
   "cell_type": "code",
   "execution_count": null,
   "metadata": {},
   "outputs": [],
   "source": [
    "X_full.shape, Y_full.shape # Shape is correct"
   ]
  },
  {
   "cell_type": "code",
   "execution_count": null,
   "metadata": {},
   "outputs": [],
   "source": [
    "rank = 10 # Used as a starting point\n",
    "lambda_ = 0.01 # This will be optimized later\n",
    "Brr, B_ols = reduced_rank_regression(X_full, Y_full, rank, lambda_)"
   ]
  },
  {
   "cell_type": "code",
   "execution_count": null,
   "metadata": {},
   "outputs": [],
   "source": [
    "# print mean and std of X_full and Y_full\n",
    "\n",
    "print(f\"Mean of X_full: {np.mean(X_full)}\")\n",
    "print(f\"Std of X_full: {np.std(X_full)}\")\n",
    "print(f\"Mean of Y_full: {np.mean(Y_full)}\")\n",
    "print(f\"Std of Y_full: {np.std(Y_full)}\")"
   ]
  },
  {
   "cell_type": "code",
   "execution_count": null,
   "metadata": {},
   "outputs": [],
   "source": [
    "Brr.shape, B_ols.shape"
   ]
  },
  {
   "cell_type": "code",
   "execution_count": null,
   "metadata": {},
   "outputs": [],
   "source": [
    "# Test a prediction on the test set for a single run\n",
    "\n",
    "# Select a random run from the test set\n",
    "test_model = list(normalized_test_data.keys())[0]\n",
    "test_runs = [run for run in normalized_test_data[test_model].keys() if run != 'forced_response']\n",
    "test_run = normalized_test_data[test_model][random.choice(test_runs)]\n",
    "ground_truth = normalized_test_data[test_model]['forced_response']"
   ]
  },
  {
   "cell_type": "code",
   "execution_count": null,
   "metadata": {},
   "outputs": [],
   "source": [
    "test_run.shape, ground_truth.shape"
   ]
  },
  {
   "cell_type": "code",
   "execution_count": null,
   "metadata": {},
   "outputs": [],
   "source": [
    "# make the prediction\n",
    "\n",
    "prediction = test_run @ B_ols\n",
    "prediction.shape"
   ]
  },
  {
   "cell_type": "code",
   "execution_count": null,
   "metadata": {},
   "outputs": [],
   "source": [
    "# Add the NaN values back to the correct spots\n",
    "predictions = True\n",
    "prediction = readd_nans_to_grid(prediction, nan_mask, predictions)\n",
    "test_run = readd_nans_to_grid(test_run, nan_mask, predictions)\n",
    "ground_truth = readd_nans_to_grid(ground_truth, nan_mask, predictions)"
   ]
  },
  {
   "cell_type": "code",
   "execution_count": null,
   "metadata": {},
   "outputs": [],
   "source": [
    "prediction.shape, test_run.shape, ground_truth.shape"
   ]
  },
  {
   "cell_type": "code",
   "execution_count": null,
   "metadata": {},
   "outputs": [],
   "source": [
    "prediction.shape, test_run.shape, ground_truth.shape"
   ]
  },
  {
   "cell_type": "code",
   "execution_count": null,
   "metadata": {},
   "outputs": [],
   "source": [
    "# Select a random grid spot\n",
    "valid_grid_spots = np.argwhere(~nan_mask)\n",
    "random_grid_spot = valid_grid_spots[random.randint(0, len(valid_grid_spots))]\n",
    "print(f\"Displaying the forced response and runs for grid spot: {random_grid_spot}\")\n",
    "\n",
    "# Data for each run (minus the forced response)\n",
    "input_data = test_run.reshape(-1, 72, 144)[:, random_grid_spot[0], random_grid_spot[1]]\n",
    "# Data for the forced response\n",
    "forced_response_data = ground_truth.reshape(-1, 72, 144)[:, random_grid_spot[0], random_grid_spot[1]]\n",
    "# Data for the prediction\n",
    "predicted_data = prediction.reshape(-1, 72, 144)[:, random_grid_spot[0], random_grid_spot[1]]\n",
    "\n",
    "# Plot the time series data for all runs, the forced response, and the prediction\n",
    "plt.figure(figsize=(10, 6))\n",
    "plt.plot(input_data, color='blue', alpha=0.5, label='Test Run')\n",
    "plt.plot(forced_response_data, color='red', label='Forced Response', linewidth=2)\n",
    "plt.plot(predicted_data, color='green', label='Prediction', linewidth=2, linestyle='--')\n",
    "plt.title(f'Time Evolution at Grid Spot ({random_grid_spot[0]}, {random_grid_spot[1]}) for Model: {test_model}')\n",
    "plt.xlabel('Time')\n",
    "plt.ylabel('Value')\n",
    "plt.legend()\n",
    "plt.show()"
   ]
  },
  {
   "cell_type": "code",
   "execution_count": null,
   "metadata": {},
   "outputs": [],
   "source": [
    "print(f\"The shape of the data is: {X_full.shape}\")\n",
    "print(f\"The shape of the target is: {Y_full.shape}\")\n",
    "print(f\"The maximum, minimum, average and std for the input data are: {np.max(X_full)}, {np.min(X_full)}, {np.mean(X_full)}, {np.std(X_full)}\")\n",
    "print(f\"The maximum, minimum, average and std for the target data are: {np.max(Y_full)}, {np.min(Y_full)}, {np.mean(Y_full)}, {np.std(Y_full)}\")"
   ]
  },
  {
   "cell_type": "code",
   "execution_count": null,
   "metadata": {},
   "outputs": [],
   "source": [
    "# Plot a random timestamp for the target and prediction\n",
    "\n",
    "random_timestamp = random.randint(0, prediction.shape[0])\n",
    "print(f\"Random timestamp: {random_timestamp}\")\n",
    "\n",
    "# Data for the target\n",
    "# Reshape the data to the original grid shape\n",
    "test_run_grid = test_run[random_timestamp, :].reshape(72, 144)\n",
    "ground_truth_grid = ground_truth[random_timestamp, :].reshape(72, 144)\n",
    "prediction_grid = prediction[random_timestamp, :].reshape(72, 144)\n",
    "\n",
    "# Plot the data using plt.imshow\n",
    "plt.figure(figsize=(18, 6))\n",
    "\n",
    "# Plot the test run\n",
    "plt.subplot(1, 3, 1)\n",
    "plt.imshow(test_run_grid, cmap='viridis')\n",
    "plt.colorbar(label='Value')\n",
    "plt.title(f'Test Run input at Timestamp {random_timestamp}')\n",
    "plt.xlabel('Longitude')\n",
    "plt.ylabel('Latitude')\n",
    "\n",
    "# Plot the ground truth (forced response)\n",
    "plt.subplot(1, 3, 2)\n",
    "plt.imshow(ground_truth_grid, cmap='viridis')\n",
    "plt.colorbar(label='Value')\n",
    "plt.title(f'Ground Truth at Timestamp {random_timestamp}')\n",
    "plt.xlabel('Longitude')\n",
    "plt.ylabel('Latitude')\n",
    "\n",
    "# Plot the prediction\n",
    "plt.subplot(1, 3, 3)\n",
    "plt.imshow(prediction_grid, cmap='viridis')\n",
    "plt.colorbar(label='Value')\n",
    "plt.title(f'Prediction at Timestamp {random_timestamp}')\n",
    "plt.xlabel('Longitude')\n",
    "plt.ylabel('Latitude')\n",
    "\n",
    "plt.show()"
   ]
  }
 ],
 "metadata": {
  "kernelspec": {
   "display_name": "main",
   "language": "python",
   "name": "python3"
  },
  "language_info": {
   "codemirror_mode": {
    "name": "ipython",
    "version": 3
   },
   "file_extension": ".py",
   "mimetype": "text/x-python",
   "name": "python",
   "nbconvert_exporter": "python",
   "pygments_lexer": "ipython3",
   "version": "3.10.16"
  }
 },
 "nbformat": 4,
 "nbformat_minor": 2
}
