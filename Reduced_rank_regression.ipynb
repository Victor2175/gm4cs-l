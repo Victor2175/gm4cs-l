{
 "cells": [
  {
   "cell_type": "markdown",
   "metadata": {},
   "source": [
    "## Reduced Rank Regression"
   ]
  },
  {
   "cell_type": "code",
   "execution_count": null,
   "metadata": {},
   "outputs": [],
   "source": [
    "import os\n",
    "import pickle as pkl\n",
    "import numpy as np\n",
    "import random\n",
    "import matplotlib.pyplot as plt\n",
    "from tqdm import tqdm\n",
    "from sklearn.preprocessing import StandardScaler\n",
    "from utils.helpers import *\n",
    "\n",
    "# autoreload\n",
    "%reload_ext autoreload\n",
    "%autoreload 2"
   ]
  },
  {
   "cell_type": "code",
   "execution_count": 2,
   "metadata": {},
   "outputs": [],
   "source": [
    "# Load the data\n",
    "current_dir = os.getcwd()\n",
    "data_path = os.path.join(current_dir, 'data')\n",
    "data = load_data(data_path, 'ssp585_time_series.pkl')"
   ]
  },
  {
   "cell_type": "code",
   "execution_count": 3,
   "metadata": {},
   "outputs": [],
   "source": [
    "filtered_data = filter_data(data)"
   ]
  },
  {
   "cell_type": "code",
   "execution_count": 4,
   "metadata": {},
   "outputs": [
    {
     "name": "stderr",
     "output_type": "stream",
     "text": [
      "100%|██████████| 34/34 [00:38<00:00,  1.12s/it]\n",
      "100%|██████████| 34/34 [00:04<00:00,  7.51it/s]\n"
     ]
    }
   ],
   "source": [
    "# Create a NaN mask\n",
    "nan_mask = create_nan_mask(filtered_data)\n",
    "\n",
    "# Apply the NaN mask\n",
    "masked_data = remove_nans_1(filtered_data, nan_mask)"
   ]
  },
  {
   "cell_type": "markdown",
   "metadata": {},
   "source": [
    "## The NaN mask has been applied and only the models with more than 4 runs have been kept"
   ]
  },
  {
   "cell_type": "code",
   "execution_count": 5,
   "metadata": {},
   "outputs": [
    {
     "name": "stdout",
     "output_type": "stream",
     "text": [
      "There are exactly 34 models of the 72 that remain.\n"
     ]
    }
   ],
   "source": [
    "print(f\"There are exactly {len(masked_data.keys())} models of the {len(data.keys())} that remain.\")"
   ]
  },
  {
   "cell_type": "code",
   "execution_count": 6,
   "metadata": {},
   "outputs": [
    {
     "name": "stderr",
     "output_type": "stream",
     "text": [
      "100%|██████████| 34/34 [01:13<00:00,  2.16s/it]\n"
     ]
    }
   ],
   "source": [
    "reshaped_data = reshape_data(masked_data)"
   ]
  },
  {
   "cell_type": "code",
   "execution_count": 7,
   "metadata": {},
   "outputs": [
    {
     "name": "stdout",
     "output_type": "stream",
     "text": [
      "Selected model: CanESM5-1, which has 72 runs.\n"
     ]
    }
   ],
   "source": [
    "example_model = 'CanESM5-1'\n",
    "example_model_data = reshaped_data[example_model]\n",
    "print(f\"Selected model: {example_model}, which has {len(example_model_data)} runs.\")"
   ]
  },
  {
   "cell_type": "code",
   "execution_count": 8,
   "metadata": {},
   "outputs": [
    {
     "data": {
      "text/plain": [
       "(165, 10368)"
      ]
     },
     "execution_count": 8,
     "metadata": {},
     "output_type": "execute_result"
    }
   ],
   "source": [
    "first_example_model_run = example_model_data[list(example_model_data.keys())[0]]\n",
    "first_example_model_run.shape # Shape: (Time x (Latitude x Longitude))"
   ]
  },
  {
   "cell_type": "markdown",
   "metadata": {},
   "source": [
    "### Calculate the forced response for each model, assuming that it is the mean of all the runs"
   ]
  },
  {
   "cell_type": "code",
   "execution_count": 9,
   "metadata": {},
   "outputs": [],
   "source": [
    "data_forced_responses = add_forced_response(reshaped_data) # The forced response is not correctly normalized yet (this is done by the normalize function below)"
   ]
  },
  {
   "cell_type": "code",
   "execution_count": 10,
   "metadata": {},
   "outputs": [],
   "source": [
    "# Only keep the first 3 models for training / testing pipeline\n",
    "\n",
    "# Select the first 3 models\n",
    "selected_models = list(data_forced_responses.keys())[:10]\n",
    "selected_data = {model: data_forced_responses[model] for model in selected_models}"
   ]
  },
  {
   "cell_type": "code",
   "execution_count": 11,
   "metadata": {},
   "outputs": [],
   "source": [
    "data_without_nans = remove_nans(selected_data, nan_mask)"
   ]
  },
  {
   "cell_type": "markdown",
   "metadata": {},
   "source": [
    "### The data is now in the shape : Time x # of grid cells "
   ]
  },
  {
   "cell_type": "code",
   "execution_count": 12,
   "metadata": {},
   "outputs": [
    {
     "data": {
      "text/plain": [
       "['ICON-ESM-LR',\n",
       " 'EC-Earth3',\n",
       " 'CMCC-CM2-SR5',\n",
       " 'ACCESS-CM2',\n",
       " 'CESM2',\n",
       " 'CNRM-ESM2-1',\n",
       " 'IPSL-CM6A-LR',\n",
       " 'GISS-E2-2-G',\n",
       " 'CNRM-CM6-1',\n",
       " 'CanESM5-1']"
      ]
     },
     "execution_count": 12,
     "metadata": {},
     "output_type": "execute_result"
    }
   ],
   "source": [
    "# Keep only the first 2 models as an example\n",
    "example_models = list(data_without_nans.keys())[:10]\n",
    "example_models"
   ]
  },
  {
   "cell_type": "code",
   "execution_count": 13,
   "metadata": {},
   "outputs": [
    {
     "name": "stdout",
     "output_type": "stream",
     "text": [
      "Training models: ['ICON-ESM-LR', 'EC-Earth3', 'ACCESS-CM2', 'CESM2', 'CNRM-ESM2-1', 'IPSL-CM6A-LR', 'GISS-E2-2-G', 'CNRM-CM6-1', 'CanESM5-1']\n",
      "Testing model: CMCC-CM2-SR5\n"
     ]
    }
   ],
   "source": [
    "# Select one of the models randomly for testing and the rest for training according to the leave-one-out strategy\n",
    "test_model = random.choice(example_models)\n",
    "train_models = [model for model in example_models if model != test_model]\n",
    "\n",
    "# Create the training and testing datasets\n",
    "train_data = {model: data_without_nans[model] for model in train_models}\n",
    "test_data = {test_model: data_without_nans[test_model]}\n",
    "\n",
    "print(f\"Training models: {train_models}\")\n",
    "print(f\"Testing model: {test_model}\")"
   ]
  },
  {
   "cell_type": "code",
   "execution_count": 14,
   "metadata": {},
   "outputs": [
    {
     "data": {
      "text/plain": [
       "dict_keys(['CMCC-CM2-SR5'])"
      ]
     },
     "execution_count": 14,
     "metadata": {},
     "output_type": "execute_result"
    }
   ],
   "source": [
    "test_data.keys()"
   ]
  },
  {
   "cell_type": "code",
   "execution_count": 15,
   "metadata": {},
   "outputs": [
    {
     "name": "stderr",
     "output_type": "stream",
     "text": [
      "100%|██████████| 9/9 [00:09<00:00,  1.03s/it]\n",
      "100%|██████████| 1/1 [00:00<00:00,  3.68it/s]\n"
     ]
    }
   ],
   "source": [
    "# Normalize the data\n",
    "normalized_train_data, normalized_test_data, training_statistics, testing_statistics = normalize_data(train_data, test_data)"
   ]
  },
  {
   "cell_type": "markdown",
   "metadata": {},
   "source": [
    "## Now that the data has been normalized (and NaN values removed), it's time to do the Reduced Rank Regression (RRR)"
   ]
  },
  {
   "cell_type": "code",
   "execution_count": 16,
   "metadata": {},
   "outputs": [],
   "source": [
    "# First pool the data together\n",
    "X_full, Y_full = pool_data(normalized_train_data)"
   ]
  },
  {
   "cell_type": "code",
   "execution_count": 17,
   "metadata": {},
   "outputs": [
    {
     "data": {
      "text/plain": [
       "((35475, 6523), (35475, 6523))"
      ]
     },
     "execution_count": 17,
     "metadata": {},
     "output_type": "execute_result"
    }
   ],
   "source": [
    "X_full.shape, Y_full.shape # Shape is correct"
   ]
  },
  {
   "cell_type": "code",
   "execution_count": 70,
   "metadata": {},
   "outputs": [],
   "source": [
    "rank = 3000 # Used as a starting point\n",
    "lambda_ = 0.01 # This will be optimized later\n",
    "Brr = reduced_rank_regression(X_full, Y_full, rank, lambda_)"
   ]
  },
  {
   "cell_type": "code",
   "execution_count": 71,
   "metadata": {},
   "outputs": [
    {
     "name": "stdout",
     "output_type": "stream",
     "text": [
      "(6523, 6523)\n"
     ]
    }
   ],
   "source": [
    "print(Brr.shape)"
   ]
  },
  {
   "cell_type": "code",
   "execution_count": 72,
   "metadata": {},
   "outputs": [],
   "source": [
    "# Test a prediction on the test set for a single run\n",
    "\n",
    "# Select a random run from the test set\n",
    "test_model = list(normalized_test_data.keys())[0]\n",
    "test_runs = [run for run in normalized_test_data[test_model].keys() if run != 'forced_response']\n",
    "test_run = normalized_test_data[test_model][random.choice(test_runs)]\n",
    "ground_truth = normalized_test_data[test_model]['forced_response']"
   ]
  },
  {
   "cell_type": "code",
   "execution_count": 73,
   "metadata": {},
   "outputs": [
    {
     "data": {
      "text/plain": [
       "((165, 6523), (165, 6523))"
      ]
     },
     "execution_count": 73,
     "metadata": {},
     "output_type": "execute_result"
    }
   ],
   "source": [
    "test_run.shape, ground_truth.shape"
   ]
  },
  {
   "cell_type": "code",
   "execution_count": 74,
   "metadata": {},
   "outputs": [
    {
     "data": {
      "text/plain": [
       "(165, 6523)"
      ]
     },
     "execution_count": 74,
     "metadata": {},
     "output_type": "execute_result"
    }
   ],
   "source": [
    "# make the prediction\n",
    "\n",
    "prediction = test_run @ Brr\n",
    "prediction.shape"
   ]
  },
  {
   "cell_type": "code",
   "execution_count": 75,
   "metadata": {},
   "outputs": [],
   "source": [
    "# Add the NaN values back to the correct spots\n",
    "predictions = True\n",
    "prediction = readd_nans(prediction, nan_mask, predictions)\n",
    "test_run = readd_nans(test_run, nan_mask, predictions)\n",
    "ground_truth = readd_nans(ground_truth, nan_mask, predictions)"
   ]
  },
  {
   "cell_type": "code",
   "execution_count": 76,
   "metadata": {},
   "outputs": [
    {
     "data": {
      "text/plain": [
       "((165, 10368), (165, 10368), (165, 10368))"
      ]
     },
     "execution_count": 76,
     "metadata": {},
     "output_type": "execute_result"
    }
   ],
   "source": [
    "prediction.shape, test_run.shape, ground_truth.shape"
   ]
  },
  {
   "cell_type": "code",
   "execution_count": 90,
   "metadata": {},
   "outputs": [
    {
     "name": "stdout",
     "output_type": "stream",
     "text": [
      "Displaying the forced response and runs for grid spot: [35 84]\n"
     ]
    },
    {
     "data": {
      "image/png": "[encoded data removed]",
      "text/plain": [
       "<Figure size 720x432 with 1 Axes>"
      ]
     },
     "metadata": {
      "needs_background": "light"
     },
     "output_type": "display_data"
    }
   ],
   "source": [
    "# Select a random grid spot\n",
    "valid_grid_spots = np.argwhere(~nan_mask)\n",
    "random_grid_spot = valid_grid_spots[random.randint(0, len(valid_grid_spots))]\n",
    "print(f\"Displaying the forced response and runs for grid spot: {random_grid_spot}\")\n",
    "\n",
    "# Data for each run (minus the forced response)\n",
    "input_data = test_run.reshape(-1, 72, 144)[:, random_grid_spot[0], random_grid_spot[1]]\n",
    "# Data for the forced response\n",
    "forced_response_data = ground_truth.reshape(-1, 72, 144)[:, random_grid_spot[0], random_grid_spot[1]]\n",
    "# Data for the prediction\n",
    "predicted_data = prediction.reshape(-1, 72, 144)[:, random_grid_spot[0], random_grid_spot[1]]\n",
    "\n",
    "# Plot the time series data for all runs, the forced response, and the prediction\n",
    "plt.figure(figsize=(10, 6))\n",
    "plt.plot(input_data, color='blue', alpha=0.5, label='Test Run')\n",
    "plt.plot(forced_response_data, color='red', label='Forced Response', linewidth=2)\n",
    "plt.plot(predicted_data, color='green', label='Prediction', linewidth=2, linestyle='--')\n",
    "plt.title(f'Time Evolution at Grid Spot ({random_grid_spot[0]}, {random_grid_spot[1]}) for Model: {test_model}')\n",
    "plt.xlabel('Time')\n",
    "plt.ylabel('Value')\n",
    "plt.legend()\n",
    "plt.show()"
   ]
  },
  {
   "cell_type": "code",
   "execution_count": 65,
   "metadata": {},
   "outputs": [
    {
     "name": "stdout",
     "output_type": "stream",
     "text": [
      "The shape of the data is: (35475, 6523)\n",
      "The shape of the target is: (35475, 6523)\n",
      "The maximum, minimum, average and std for the input data are: 42.12560053008167, -7610.598601598949, -0.38787908561791024, 22.45946965896203\n",
      "The maximum, minimum, average and std for the target data are: 40.78550689969676, -7608.745755742709, -0.38787908561790924, 22.437196290130114\n"
     ]
    }
   ],
   "source": [
    "print(f\"The shape of the data is: {X_full.shape}\")\n",
    "print(f\"The shape of the target is: {Y_full.shape}\")\n",
    "print(f\"The maximum, minimum, average and std for the input data are: {np.max(X_full)}, {np.min(X_full)}, {np.mean(X_full)}, {np.std(X_full)}\")\n",
    "print(f\"The maximum, minimum, average and std for the target data are: {np.max(Y_full)}, {np.min(Y_full)}, {np.mean(Y_full)}, {np.std(Y_full)}\")"
   ]
  },
  {
   "cell_type": "code",
   "execution_count": null,
   "metadata": {},
   "outputs": [],
   "source": []
  }
 ],
 "metadata": {
  "kernelspec": {
   "display_name": "Project",
   "language": "python",
   "name": "python3"
  },
  "language_info": {
   "codemirror_mode": {
    "name": "ipython",
    "version": 3
   },
   "file_extension": ".py",
   "mimetype": "text/x-python",
   "name": "python",
   "nbconvert_exporter": "python",
   "pygments_lexer": "ipython3",
   "version": "3.10.14"
  }
 },
 "nbformat": 4,
 "nbformat_minor": 2
}
