{
 "cells": [
  {
   "cell_type": "markdown",
   "metadata": {},
   "source": [
    "# Variational Auto Encoder\n",
    "This notebook demonstrates the training of a Variational Autoencoder (VAE) to learn transformations from input climate data to corresponding forced responses."
   ]
  },
  {
   "cell_type": "code",
   "execution_count": 1,
   "metadata": {},
   "outputs": [
    {
     "name": "stdout",
     "output_type": "stream",
     "text": [
      "Data path: /Users/lharriso/Documents/GitHub/gm4cs-l/data\n"
     ]
    }
   ],
   "source": [
    "# Import necessary libraries\n",
    "import pandas as pd\n",
    "import pickle as pkl\n",
    "import numpy as np\n",
    "import matplotlib.pyplot as plt\n",
    "import seaborn as sns\n",
    "import os, sys\n",
    "import random\n",
    "import warnings\n",
    "\n",
    "\n",
    "from torch.utils.data import DataLoader\n",
    "\n",
    "# Add utility paths\n",
    "sys.path.append(os.path.join(os.getcwd(), 'utils'))\n",
    "\n",
    "# Import utility functions\n",
    "from utils.data_loading import *\n",
    "from utils.data_processing import *\n",
    "from utils.vae import *\n",
    "from utils.animation import *\n",
    "from utils.metrics import *\n",
    "from utils.pipeline import *\n",
    "\n",
    "# Enable autoreload\n",
    "%reload_ext autoreload\n",
    "%autoreload 2\n",
    "\n",
    "# Suppress warnings\n",
    "warnings.filterwarnings(\"ignore\", category=RuntimeWarning)\n",
    "\n",
    "# Define data path\n",
    "current_dir = os.getcwd()\n",
    "data_path = os.path.join(current_dir, 'data')\n",
    "print(f\"Data path: {data_path}\")"
   ]
  },
  {
   "cell_type": "code",
   "execution_count": 2,
   "metadata": {},
   "outputs": [
    {
     "name": "stdout",
     "output_type": "stream",
     "text": [
      "Using device: mps\n"
     ]
    }
   ],
   "source": [
    "# Use MPS / Cuda or CPU if none of the options are available\n",
    "device = torch.device(\"mps\" if torch.backends.mps.is_available() else \"cuda\" if torch.cuda.is_available() else \"cpu\")\n",
    "print(f\"Using device: {device}\")\n",
    "random.seed(42)"
   ]
  },
  {
   "cell_type": "code",
   "execution_count": 3,
   "metadata": {},
   "outputs": [
    {
     "name": "stdout",
     "output_type": "stream",
     "text": [
      "Loading data from /Users/lharriso/Documents/GitHub/gm4cs-l/data/ssp585_time_series.pkl\n",
      "Data loaded successfully.\n",
      "Filtering data...\n",
      "Data loaded successfully.\n",
      "Filtering data...\n"
     ]
    },
    {
     "name": "stderr",
     "output_type": "stream",
     "text": [
      "100%|██████████| 72/72 [00:00<00:00, 35662.48it/s]\n",
      "100%|██████████| 72/72 [00:00<00:00, 35662.48it/s]\n"
     ]
    },
    {
     "name": "stdout",
     "output_type": "stream",
     "text": [
      "Data filtered. Kept 34 models\n",
      "Creating NaN mask...\n"
     ]
    },
    {
     "name": "stderr",
     "output_type": "stream",
     "text": [
      "100%|██████████| 34/34 [00:02<00:00, 14.42it/s]\n",
      "100%|██████████| 34/34 [00:02<00:00, 14.42it/s]\n"
     ]
    },
    {
     "name": "stdout",
     "output_type": "stream",
     "text": [
      "NaN mask created.\n",
      "Masking out NaN values...\n"
     ]
    },
    {
     "name": "stderr",
     "output_type": "stream",
     "text": [
      "100%|██████████| 34/34 [00:01<00:00, 26.67it/s]\n",
      "100%|██████████| 34/34 [00:01<00:00, 26.67it/s]\n"
     ]
    },
    {
     "name": "stdout",
     "output_type": "stream",
     "text": [
      "NaN values masked out.\n",
      "Reshaping data...\n"
     ]
    },
    {
     "name": "stderr",
     "output_type": "stream",
     "text": [
      "100%|██████████| 34/34 [00:04<00:00,  8.18it/s]\n",
      "100%|██████████| 34/34 [00:04<00:00,  8.18it/s]\n"
     ]
    },
    {
     "name": "stdout",
     "output_type": "stream",
     "text": [
      "Data reshaped.\n",
      "Adding the forced response to the data...\n"
     ]
    },
    {
     "name": "stderr",
     "output_type": "stream",
     "text": [
      "100%|██████████| 34/34 [00:10<00:00,  3.36it/s]\n",
      "100%|██████████| 34/34 [00:10<00:00,  3.36it/s]\n"
     ]
    },
    {
     "name": "stdout",
     "output_type": "stream",
     "text": [
      "Forced response added.\n",
      "Removing NaN values from the grid...\n"
     ]
    },
    {
     "name": "stderr",
     "output_type": "stream",
     "text": [
      "100%|██████████| 34/34 [00:03<00:00,  9.54it/s]\n",
      "100%|██████████| 34/34 [00:03<00:00,  9.54it/s]\n"
     ]
    },
    {
     "name": "stdout",
     "output_type": "stream",
     "text": [
      "NaN values removed.\n"
     ]
    }
   ],
   "source": [
    "# Load the data\n",
    "filename = os.path.join(data_path, 'ssp585_time_series.pkl')\n",
    "data, nan_mask = preprocess_data(data_path, filename)"
   ]
  },
  {
   "cell_type": "code",
   "execution_count": 4,
   "metadata": {},
   "outputs": [
    {
     "name": "stderr",
     "output_type": "stream",
     "text": [
      "/var/folders/9v/q6t68ds12f9c4dgn9gnwzrmr0000gn/T/ipykernel_82298/3740862327.py:3: DeprecationWarning: Sampling from a set deprecated\n",
      "since Python 3.9 and will be removed in a subsequent version.\n",
      "  model_keys = random.sample(data.keys(), n)\n"
     ]
    }
   ],
   "source": [
    "# Randomly select and keep the data corresponding to n models\n",
    "n = 5\n",
    "model_keys = random.sample(data.keys(), n)\n",
    "data = {key: value for key,value in data.items() if key in model_keys}"
   ]
  },
  {
   "cell_type": "code",
   "execution_count": 5,
   "metadata": {},
   "outputs": [
    {
     "name": "stdout",
     "output_type": "stream",
     "text": [
      "Training models: ['EC-Earth3', 'E3SM-2-0', 'GISS-E2-1-G', 'ACCESS-ESM1-5']\n",
      "Testing model: GISS-E2-2-G\n"
     ]
    }
   ],
   "source": [
    "# Select one of the models randomly for testing and the rest for training according to the leave-one-out strategy\n",
    "test_model = random.choice(list(data.keys()))\n",
    "train_models = [model for model in data.keys() if model != test_model]\n",
    "\n",
    "# Create the training and testing datasets\n",
    "train_data = {model: data[model] for model in train_models}\n",
    "test_data = {test_model: data[test_model]}\n",
    "\n",
    "print(f\"Training models: {train_models}\")\n",
    "print(f\"Testing model: {test_model}\")"
   ]
  },
  {
   "cell_type": "code",
   "execution_count": 6,
   "metadata": {},
   "outputs": [
    {
     "name": "stdout",
     "output_type": "stream",
     "text": [
      "\n",
      "Normalizing data...\n"
     ]
    },
    {
     "name": "stderr",
     "output_type": "stream",
     "text": [
      "  0%|          | 0/4 [00:00<?, ?it/s]"
     ]
    },
    {
     "name": "stderr",
     "output_type": "stream",
     "text": [
      "100%|██████████| 4/4 [00:00<00:00, 10.64it/s]\n",
      "  0%|          | 0/1 [00:00<?, ?it/s]\n",
      "100%|██████████| 1/1 [00:00<00:00, 26.12it/s]"
     ]
    },
    {
     "name": "stdout",
     "output_type": "stream",
     "text": [
      "Data normalization completed.\n"
     ]
    },
    {
     "name": "stderr",
     "output_type": "stream",
     "text": [
      "\n"
     ]
    }
   ],
   "source": [
    "center = True\n",
    "normalized_train_data, normalized_test_data, _, _ = normalize_data(train_data, test_data, center=center)"
   ]
  },
  {
   "cell_type": "code",
   "execution_count": 7,
   "metadata": {},
   "outputs": [
    {
     "name": "stdout",
     "output_type": "stream",
     "text": [
      "Flattened the data\n"
     ]
    },
    {
     "data": {
      "image/png": "[encoded data removed]",
      "text/plain": [
       "<Figure size 1000x600 with 1 Axes>"
      ]
     },
     "metadata": {},
     "output_type": "display_data"
    }
   ],
   "source": [
    "# Print the distribution of the data\n",
    "# Flatten the data for analysis\n",
    "flattened_data = np.concatenate([np.ravel(array) for model in normalized_train_data.values() for array in model.values()])\n",
    "print(\"Flattened the data\")\n",
    "# Plot the distribution of the data\n",
    "plt.figure(figsize=(10, 6))\n",
    "sns.histplot(flattened_data, bins=50, kde=False)\n",
    "plt.title('Distribution of Flattened Data')\n",
    "plt.xlabel('Value')\n",
    "plt.ylabel('Frequency')\n",
    "plt.show()"
   ]
  },
  {
   "cell_type": "code",
   "execution_count": 8,
   "metadata": {},
   "outputs": [
    {
     "data": {
      "image/png": "[encoded data removed]",
      "text/plain": [
       "<Figure size 1000x600 with 1 Axes>"
      ]
     },
     "metadata": {},
     "output_type": "display_data"
    }
   ],
   "source": [
    "# Flatten the normalized_test_data for analysis\n",
    "flattened_test_data = np.concatenate([np.ravel(array) for model in normalized_test_data.values() for array in model.values()])\n",
    "\n",
    "# Plot the distribution of the flattened normalized_test_data\n",
    "plt.figure(figsize=(10, 6))\n",
    "sns.histplot(flattened_test_data, bins=50, kde=False)\n",
    "plt.title('Distribution of Normalized Test Data')\n",
    "plt.xlabel('Value')\n",
    "plt.ylabel('Frequency')\n",
    "plt.show()"
   ]
  },
  {
   "cell_type": "code",
   "execution_count": 9,
   "metadata": {},
   "outputs": [
    {
     "name": "stdout",
     "output_type": "stream",
     "text": [
      "Creating datasets...\n"
     ]
    },
    {
     "name": "stderr",
     "output_type": "stream",
     "text": [
      "Processing models: 100%|██████████| 4/4 [00:00<00:00, 86480.49it/s]\n",
      "Processing models: 100%|██████████| 4/4 [00:00<00:00, 86480.49it/s]\n",
      "/Users/lharriso/Documents/GitHub/gm4cs-l/utils/vae.py:20: UserWarning: Creating a tensor from a list of numpy.ndarrays is extremely slow. Please consider converting the list to a single numpy.ndarray with numpy.array() before converting to a tensor. (Triggered internally at /Users/runner/work/pytorch/pytorch/pytorch/torch/csrc/utils/tensor_new.cpp:257.)\n",
      "  self.inputs = torch.tensor(self.inputs, dtype=torch.float32)\n",
      "/Users/lharriso/Documents/GitHub/gm4cs-l/utils/vae.py:20: UserWarning: Creating a tensor from a list of numpy.ndarrays is extremely slow. Please consider converting the list to a single numpy.ndarray with numpy.array() before converting to a tensor. (Triggered internally at /Users/runner/work/pytorch/pytorch/pytorch/torch/csrc/utils/tensor_new.cpp:257.)\n",
      "  self.inputs = torch.tensor(self.inputs, dtype=torch.float32)\n"
     ]
    },
    {
     "name": "stdout",
     "output_type": "stream",
     "text": [
      "Creating datasets...\n"
     ]
    },
    {
     "name": "stderr",
     "output_type": "stream",
     "text": [
      "Processing models: 100%|██████████| 1/1 [00:00<00:00, 34663.67it/s]\n",
      "\n"
     ]
    },
    {
     "name": "stdout",
     "output_type": "stream",
     "text": [
      "Training dataset size: 124\n",
      "Testing dataset size: 11\n"
     ]
    }
   ],
   "source": [
    "# Create dataset\n",
    "train_dataset = ClimateDataset(normalized_train_data)\n",
    "test_dataset = ClimateDataset(normalized_test_data)\n",
    "\n",
    "# Create dataloaders\n",
    "train_loader = DataLoader(train_dataset, batch_size=8, shuffle=True)\n",
    "test_loader = DataLoader(test_dataset, batch_size=8, shuffle=False)\n",
    "\n",
    "# Print dataset sizes\n",
    "print(f'Training dataset size: {len(train_dataset)}')\n",
    "print(f'Testing dataset size: {len(test_dataset)}')"
   ]
  },
  {
   "cell_type": "code",
   "execution_count": 10,
   "metadata": {},
   "outputs": [
    {
     "name": "stdout",
     "output_type": "stream",
     "text": [
      "Using device: mps\n"
     ]
    },
    {
     "name": "stderr",
     "output_type": "stream",
     "text": [
      "  0%|          | 1/1000 [00:01<18:38,  1.12s/it]"
     ]
    },
    {
     "name": "stdout",
     "output_type": "stream",
     "text": [
      "Epoch 1, Average Loss: 743923.7964\n"
     ]
    },
    {
     "name": "stderr",
     "output_type": "stream",
     "text": [
      " 10%|█         | 101/1000 [01:18<11:27,  1.31it/s]"
     ]
    },
    {
     "name": "stdout",
     "output_type": "stream",
     "text": [
      "Epoch 101, Average Loss: 462728.7117\n"
     ]
    },
    {
     "name": "stderr",
     "output_type": "stream",
     "text": [
      " 20%|██        | 201/1000 [02:36<10:16,  1.30it/s]"
     ]
    },
    {
     "name": "stdout",
     "output_type": "stream",
     "text": [
      "Epoch 201, Average Loss: 337869.6452\n"
     ]
    },
    {
     "name": "stderr",
     "output_type": "stream",
     "text": [
      " 30%|███       | 301/1000 [03:53<09:06,  1.28it/s]"
     ]
    },
    {
     "name": "stdout",
     "output_type": "stream",
     "text": [
      "Epoch 301, Average Loss: 324600.2762\n"
     ]
    },
    {
     "name": "stderr",
     "output_type": "stream",
     "text": [
      " 40%|████      | 401/1000 [05:09<07:42,  1.30it/s]"
     ]
    },
    {
     "name": "stdout",
     "output_type": "stream",
     "text": [
      "Epoch 401, Average Loss: 323801.5343\n"
     ]
    },
    {
     "name": "stderr",
     "output_type": "stream",
     "text": [
      " 50%|█████     | 501/1000 [06:25<06:18,  1.32it/s]"
     ]
    },
    {
     "name": "stdout",
     "output_type": "stream",
     "text": [
      "Epoch 501, Average Loss: 323731.8700\n"
     ]
    },
    {
     "name": "stderr",
     "output_type": "stream",
     "text": [
      " 60%|██████    | 601/1000 [07:42<05:14,  1.27it/s]"
     ]
    },
    {
     "name": "stdout",
     "output_type": "stream",
     "text": [
      "Epoch 601, Average Loss: 323609.1804\n"
     ]
    },
    {
     "name": "stderr",
     "output_type": "stream",
     "text": [
      " 70%|███████   | 701/1000 [08:59<03:45,  1.32it/s]"
     ]
    },
    {
     "name": "stdout",
     "output_type": "stream",
     "text": [
      "Epoch 701, Average Loss: 323530.4476\n"
     ]
    },
    {
     "name": "stderr",
     "output_type": "stream",
     "text": [
      " 80%|████████  | 801/1000 [10:15<02:35,  1.28it/s]"
     ]
    },
    {
     "name": "stdout",
     "output_type": "stream",
     "text": [
      "Epoch 801, Average Loss: 323772.8065\n"
     ]
    },
    {
     "name": "stderr",
     "output_type": "stream",
     "text": [
      " 90%|█████████ | 901/1000 [11:30<01:18,  1.27it/s]"
     ]
    },
    {
     "name": "stdout",
     "output_type": "stream",
     "text": [
      "Epoch 901, Average Loss: 323436.0847\n"
     ]
    },
    {
     "name": "stderr",
     "output_type": "stream",
     "text": [
      "100%|██████████| 1000/1000 [12:46<00:00,  1.30it/s]\n",
      "\n"
     ]
    }
   ],
   "source": [
    "# Initialize the VAE model\n",
    "input_dim = train_dataset.inputs.shape[1] * train_dataset.inputs.shape[2]  # Flattened input dimensions\n",
    "latent_dim = 50  # Reduced from 100\n",
    "hidden_dim = 25  # Reduced from 50\n",
    "mu_var_dim = 5  # Reduced from 10\n",
    "device = 'mps' if torch.backends.mps.is_available() else 'cuda' if torch.cuda.is_available() else 'cpu'\n",
    "print(f\"Using device: {device}\")\n",
    "vae_model = VAE(input_dim=input_dim, hidden_dim = hidden_dim, latent_dim=latent_dim, device=device, mu_var_dim=mu_var_dim).to(device)\n",
    "\n",
    "# Apply weight initialization\n",
    "vae_model.apply(initialize_weights)\n",
    "\n",
    "# Define optimizer\n",
    "optimizer = torch.optim.Adam(vae_model.parameters(), lr=1e-4)  # Lower learning rate and add weight decay (was 1e-5)\n",
    "\n",
    "# Train the VAE and collect loss values\n",
    "losses = train_vae(vae_model, train_loader, optimizer, epochs=1000, device=device)"
   ]
  },
  {
   "cell_type": "code",
   "execution_count": 20,
   "metadata": {},
   "outputs": [
    {
     "data": {
      "image/png": "[encoded data removed]",
      "text/plain": [
       "<Figure size 1000x600 with 1 Axes>"
      ]
     },
     "metadata": {},
     "output_type": "display_data"
    },
    {
     "name": "stdout",
     "output_type": "stream",
     "text": [
      "Final loss value: 3.23e+05\n"
     ]
    }
   ],
   "source": [
    "# Plot the training loss\n",
    "plt.figure(figsize=(10, 6))\n",
    "plt.plot(losses, label='Training Loss')\n",
    "plt.legend()\n",
    "plt.title('VAE Training Loss per Epoch')\n",
    "plt.xlabel('Epoch')\n",
    "plt.ylabel('Loss')\n",
    "plt.grid(True)\n",
    "plt.yscale('log')  # Using log scale if loss values vary greatly\n",
    "plt.tight_layout()\n",
    "plt.show()\n",
    "\n",
    "# Print the final loss value\n",
    "print(f\"Final loss value: {losses[-1]:.2e}\")\n",
    "\n",
    "# Save the loss values for future reference\n",
    "# loss_dict = {'epochs': list(range(1, len(losses)+1)), 'loss_values': losses}\n",
    "# with open('vae_training_losses.pkl', 'wb') as f:\n",
    "#     pkl.dump(loss_dict, f)"
   ]
  },
  {
   "cell_type": "code",
   "execution_count": 25,
   "metadata": {},
   "outputs": [
    {
     "name": "stdout",
     "output_type": "stream",
     "text": [
      "Average test loss: 1.00e+06\n"
     ]
    }
   ],
   "source": [
    "# Evaluate VAE and generate animations\n",
    "vae_model.eval()  # Set the model to evaluation mode\n",
    "test_loss = 0\n",
    "all_inputs = []\n",
    "all_outputs = []\n",
    "all_reconstructed = []\n",
    "\n",
    "with torch.no_grad():  # Disable gradient computation for inference\n",
    "    for batch in test_loader:\n",
    "        # Access dictionary keys separately and move to device\n",
    "        inputs = batch['input'].view(batch['input'].size(0), -1).to(device)  # Flatten input and move to device\n",
    "        outputs = batch['output'].view(batch['output'].size(0), -1).to(device)  # Flatten output and move to device\n",
    "\n",
    "        reconstructed, _, _ = vae_model(inputs)  # Forward pass through the VAE\n",
    "\n",
    "        loss = torch.nn.functional.mse_loss(reconstructed, outputs, reduction='sum')  # Compute reconstruction loss\n",
    "        test_loss += loss.item()\n",
    "        \n",
    "        # Store data for visualization (move back to CPU)\n",
    "        all_inputs.extend(inputs.cpu().numpy())\n",
    "        all_outputs.extend(outputs.cpu().numpy())\n",
    "        all_reconstructed.extend(reconstructed.cpu().numpy())\n",
    "\n",
    "# Compute the average test loss\n",
    "test_loss /= len(test_loader.dataset)\n",
    "print(f\"Average test loss: {test_loss:.2e}\")"
   ]
  },
  {
   "cell_type": "code",
   "execution_count": 39,
   "metadata": {},
   "outputs": [
    {
     "name": "stdout",
     "output_type": "stream",
     "text": [
      "torch.Size([8, 165, 6523])\n",
      "torch.Size([3, 165, 6523])\n"
     ]
    }
   ],
   "source": [
    "vae_model.eval()  # Set the model to evaluation mode\n",
    "with torch.no_grad():\n",
    "    for _, batch in enumerate(test_loader):\n",
    "        print(batch['input'].shape)"
   ]
  },
  {
   "cell_type": "code",
   "execution_count": 35,
   "metadata": {},
   "outputs": [
    {
     "data": {
      "text/plain": [
       "11"
      ]
     },
     "execution_count": 35,
     "metadata": {},
     "output_type": "execute_result"
    }
   ],
   "source": [
    "len(test_dataset)"
   ]
  }
 ],
 "metadata": {
  "kernelspec": {
   "display_name": "main",
   "language": "python",
   "name": "python3"
  },
  "language_info": {
   "codemirror_mode": {
    "name": "ipython",
    "version": 3
   },
   "file_extension": ".py",
   "mimetype": "text/x-python",
   "name": "python",
   "nbconvert_exporter": "python",
   "pygments_lexer": "ipython3",
   "version": "3.10.16"
  }
 },
 "nbformat": 4,
 "nbformat_minor": 2
}
