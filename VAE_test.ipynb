{
 "cells": [
  {
   "cell_type": "markdown",
   "metadata": {},
   "source": [
    "# Linear Variational Auto Encoder\n",
    "This notebook demonstrates the training of a Linear Variational Autoencoder (VAE) to learn transformations from input climate data to corresponding forced responses, with BCE loss for reconstruction."
   ]
  },
  {
   "cell_type": "code",
   "execution_count": 1,
   "metadata": {},
   "outputs": [
    {
     "name": "stdout",
     "output_type": "stream",
     "text": [
      "Data path: /Users/lharriso/Documents/GitHub/gm4cs-l/data\n"
     ]
    }
   ],
   "source": [
    "# Import necessary libraries\n",
    "import pandas as pd\n",
    "import pickle as pkl\n",
    "import numpy as np\n",
    "import matplotlib.pyplot as plt\n",
    "import seaborn as sns\n",
    "import os, sys\n",
    "import random\n",
    "import warnings\n",
    "\n",
    "\n",
    "from torch.utils.data import DataLoader\n",
    "\n",
    "# Add utility paths\n",
    "sys.path.append(os.path.join(os.getcwd(), 'utils'))\n",
    "\n",
    "# Import utility functions\n",
    "from utils.data_loading import *\n",
    "from utils.data_processing import *\n",
    "from utils.vae import *\n",
    "from utils.animation import *\n",
    "from utils.metrics import *\n",
    "from utils.pipeline import *\n",
    "\n",
    "# Enable autoreload\n",
    "%reload_ext autoreload\n",
    "%autoreload 2\n",
    "\n",
    "# Suppress warnings\n",
    "warnings.filterwarnings(\"ignore\", category=RuntimeWarning)\n",
    "\n",
    "# Define data path\n",
    "current_dir = os.getcwd()\n",
    "data_path = os.path.join(current_dir, 'data')\n",
    "print(f\"Data path: {data_path}\")"
   ]
  },
  {
   "cell_type": "code",
   "execution_count": 2,
   "metadata": {},
   "outputs": [
    {
     "name": "stdout",
     "output_type": "stream",
     "text": [
      "Using device: mps\n"
     ]
    }
   ],
   "source": [
    "# Use MPS / Cuda or CPU if none of the options are available\n",
    "device = torch.device(\"mps\" if torch.backends.mps.is_available() else \"cuda\" if torch.cuda.is_available() else \"cpu\")\n",
    "print(f\"Using device: {device}\")\n",
    "random.seed(42)"
   ]
  },
  {
   "cell_type": "code",
   "execution_count": 3,
   "metadata": {},
   "outputs": [
    {
     "name": "stdout",
     "output_type": "stream",
     "text": [
      "Loading data from /Users/lharriso/Documents/GitHub/gm4cs-l/data/ssp585_time_series.pkl\n",
      "Data loaded successfully.\n",
      "Filtering data...\n",
      "Data loaded successfully.\n",
      "Filtering data...\n"
     ]
    },
    {
     "name": "stderr",
     "output_type": "stream",
     "text": [
      "100%|██████████| 72/72 [00:00<00:00, 56829.11it/s]\n",
      "100%|██████████| 72/72 [00:00<00:00, 56829.11it/s]\n"
     ]
    },
    {
     "name": "stdout",
     "output_type": "stream",
     "text": [
      "Data filtered. Kept 34 models\n",
      "Creating NaN mask...\n"
     ]
    },
    {
     "name": "stderr",
     "output_type": "stream",
     "text": [
      "100%|██████████| 34/34 [00:02<00:00, 11.72it/s]\n",
      "100%|██████████| 34/34 [00:02<00:00, 11.72it/s]\n"
     ]
    },
    {
     "name": "stdout",
     "output_type": "stream",
     "text": [
      "NaN mask created.\n",
      "Masking out NaN values...\n"
     ]
    },
    {
     "name": "stderr",
     "output_type": "stream",
     "text": [
      "100%|██████████| 34/34 [00:03<00:00,  8.94it/s]\n",
      "100%|██████████| 34/34 [00:03<00:00,  8.94it/s]\n"
     ]
    },
    {
     "name": "stdout",
     "output_type": "stream",
     "text": [
      "NaN values masked out.\n",
      "Reshaping data...\n"
     ]
    },
    {
     "name": "stderr",
     "output_type": "stream",
     "text": [
      "100%|██████████| 34/34 [00:04<00:00,  7.62it/s]\n",
      "\n"
     ]
    },
    {
     "name": "stdout",
     "output_type": "stream",
     "text": [
      "Data reshaped.\n",
      "Adding the forced response to the data...\n"
     ]
    },
    {
     "name": "stderr",
     "output_type": "stream",
     "text": [
      "100%|██████████| 34/34 [00:26<00:00,  1.30it/s]\n",
      "100%|██████████| 34/34 [00:26<00:00,  1.30it/s]\n"
     ]
    },
    {
     "name": "stdout",
     "output_type": "stream",
     "text": [
      "Forced response added.\n",
      "Removing NaN values from the grid...\n"
     ]
    },
    {
     "name": "stderr",
     "output_type": "stream",
     "text": [
      "100%|██████████| 34/34 [00:03<00:00,  9.21it/s]\n",
      "100%|██████████| 34/34 [00:03<00:00,  9.21it/s]\n"
     ]
    },
    {
     "name": "stdout",
     "output_type": "stream",
     "text": [
      "NaN values removed.\n"
     ]
    }
   ],
   "source": [
    "# Load the data\n",
    "filename = os.path.join(data_path, 'ssp585_time_series.pkl')\n",
    "data, nan_mask = preprocess_data(data_path, filename)"
   ]
  },
  {
   "cell_type": "code",
   "execution_count": 4,
   "metadata": {},
   "outputs": [
    {
     "name": "stderr",
     "output_type": "stream",
     "text": [
      "/var/folders/9v/q6t68ds12f9c4dgn9gnwzrmr0000gn/T/ipykernel_4954/3740862327.py:3: DeprecationWarning: Sampling from a set deprecated\n",
      "since Python 3.9 and will be removed in a subsequent version.\n",
      "  model_keys = random.sample(data.keys(), n)\n"
     ]
    }
   ],
   "source": [
    "# Randomly select and keep the data corresponding to n models\n",
    "n = 5\n",
    "model_keys = random.sample(data.keys(), n)\n",
    "data = {key: value for key,value in data.items() if key in model_keys}"
   ]
  },
  {
   "cell_type": "code",
   "execution_count": 5,
   "metadata": {},
   "outputs": [
    {
     "name": "stdout",
     "output_type": "stream",
     "text": [
      "Training models: ['EC-Earth3', 'E3SM-2-0', 'GISS-E2-1-G', 'ACCESS-ESM1-5']\n",
      "Testing model: GISS-E2-2-G\n"
     ]
    }
   ],
   "source": [
    "# Select one of the models randomly for testing and the rest for training according to the leave-one-out strategy\n",
    "test_model = random.choice(list(data.keys()))\n",
    "train_models = [model for model in data.keys() if model != test_model]\n",
    "\n",
    "# Create the training and testing datasets\n",
    "train_data = {model: data[model] for model in train_models}\n",
    "test_data = {test_model: data[test_model]}\n",
    "\n",
    "print(f\"Training models: {train_models}\")\n",
    "print(f\"Testing model: {test_model}\")"
   ]
  },
  {
   "cell_type": "code",
   "execution_count": 6,
   "metadata": {},
   "outputs": [
    {
     "name": "stdout",
     "output_type": "stream",
     "text": [
      "\n",
      "Normalizing data...\n"
     ]
    },
    {
     "name": "stderr",
     "output_type": "stream",
     "text": [
      "100%|██████████| 4/4 [00:00<00:00, 10.36it/s]\n",
      "  0%|          | 0/1 [00:00<?, ?it/s]\n",
      "100%|██████████| 1/1 [00:00<00:00, 26.09it/s]"
     ]
    },
    {
     "name": "stdout",
     "output_type": "stream",
     "text": [
      "Data normalization completed.\n"
     ]
    },
    {
     "name": "stderr",
     "output_type": "stream",
     "text": [
      "\n"
     ]
    }
   ],
   "source": [
    "center = True\n",
    "normalized_train_data, normalized_test_data, _, _ = normalize_data(train_data, test_data, center=center)"
   ]
  },
  {
   "cell_type": "code",
   "execution_count": 7,
   "metadata": {},
   "outputs": [
    {
     "name": "stdout",
     "output_type": "stream",
     "text": [
      "Flattened the data\n"
     ]
    },
    {
     "data": {
      "image/png": "[encoded data removed]",
      "text/plain": [
       "<Figure size 1000x600 with 1 Axes>"
      ]
     },
     "metadata": {},
     "output_type": "display_data"
    }
   ],
   "source": [
    "# Print the distribution of the data\n",
    "# Flatten the data for analysis\n",
    "flattened_data = np.concatenate([np.ravel(array) for model in normalized_train_data.values() for array in model.values()])\n",
    "print(\"Flattened the data\")\n",
    "# Plot the distribution of the data\n",
    "plt.figure(figsize=(10, 6))\n",
    "sns.histplot(flattened_data, bins=50, kde=False)\n",
    "plt.title('Distribution of Flattened Data')\n",
    "plt.xlabel('Value')\n",
    "plt.ylabel('Frequency')\n",
    "plt.show()"
   ]
  },
  {
   "cell_type": "code",
   "execution_count": 8,
   "metadata": {},
   "outputs": [
    {
     "data": {
      "image/png": "[encoded data removed]",
      "text/plain": [
       "<Figure size 1000x600 with 1 Axes>"
      ]
     },
     "metadata": {},
     "output_type": "display_data"
    }
   ],
   "source": [
    "# Flatten the normalized_test_data for analysis\n",
    "flattened_test_data = np.concatenate([np.ravel(array) for model in normalized_test_data.values() for array in model.values()])\n",
    "\n",
    "# Plot the distribution of the flattened normalized_test_data\n",
    "plt.figure(figsize=(10, 6))\n",
    "sns.histplot(flattened_test_data, bins=50, kde=False)\n",
    "plt.title('Distribution of Normalized Test Data')\n",
    "plt.xlabel('Value')\n",
    "plt.ylabel('Frequency')\n",
    "plt.show()"
   ]
  },
  {
   "cell_type": "code",
   "execution_count": 9,
   "metadata": {},
   "outputs": [
    {
     "name": "stdout",
     "output_type": "stream",
     "text": [
      "Creating datasets...\n"
     ]
    },
    {
     "name": "stderr",
     "output_type": "stream",
     "text": [
      "Processing models: 100%|██████████| 4/4 [00:00<00:00, 47127.01it/s]\n",
      "Processing models: 100%|██████████| 4/4 [00:00<00:00, 47127.01it/s]\n",
      "/Users/lharriso/Documents/GitHub/gm4cs-l/utils/vae.py:20: UserWarning: Creating a tensor from a list of numpy.ndarrays is extremely slow. Please consider converting the list to a single numpy.ndarray with numpy.array() before converting to a tensor. (Triggered internally at /Users/runner/work/pytorch/pytorch/pytorch/torch/csrc/utils/tensor_new.cpp:257.)\n",
      "  self.inputs = torch.tensor(self.inputs, dtype=torch.float32)\n",
      "/Users/lharriso/Documents/GitHub/gm4cs-l/utils/vae.py:20: UserWarning: Creating a tensor from a list of numpy.ndarrays is extremely slow. Please consider converting the list to a single numpy.ndarray with numpy.array() before converting to a tensor. (Triggered internally at /Users/runner/work/pytorch/pytorch/pytorch/torch/csrc/utils/tensor_new.cpp:257.)\n",
      "  self.inputs = torch.tensor(self.inputs, dtype=torch.float32)\n"
     ]
    },
    {
     "name": "stdout",
     "output_type": "stream",
     "text": [
      "Creating datasets...\n"
     ]
    },
    {
     "name": "stderr",
     "output_type": "stream",
     "text": [
      "Processing models: 100%|██████████| 1/1 [00:00<00:00, 37449.14it/s]\n",
      "Processing models: 100%|██████████| 1/1 [00:00<00:00, 37449.14it/s]\n"
     ]
    },
    {
     "name": "stdout",
     "output_type": "stream",
     "text": [
      "Training dataset size: 124\n",
      "Testing dataset size: 11\n",
      "Input shape: torch.Size([16, 165, 6523])\n",
      "Output shape: torch.Size([16, 165, 6523])\n",
      "Input shape: torch.Size([16, 165, 6523])\n",
      "Output shape: torch.Size([16, 165, 6523])\n"
     ]
    }
   ],
   "source": [
    "# Create dataset for the linear VAE\n",
    "train_dataset = ClimateDataset(normalized_train_data)\n",
    "test_dataset = ClimateDataset(normalized_test_data)\n",
    "\n",
    "# Create dataloaders\n",
    "batch_size = 16  # Higher batch size for linear VAE\n",
    "train_loader = DataLoader(train_dataset, batch_size=batch_size, shuffle=True)\n",
    "test_loader = DataLoader(test_dataset, batch_size=batch_size, shuffle=False)\n",
    "\n",
    "# Print dataset sizes\n",
    "print(f'Training dataset size: {len(train_dataset)}')\n",
    "print(f'Testing dataset size: {len(test_dataset)}')\n",
    "\n",
    "# Check the shape of the data\n",
    "sample = next(iter(train_loader))\n",
    "print(f\"Input shape: {sample['input'].shape}\")\n",
    "print(f\"Output shape: {sample['output'].shape}\")"
   ]
  },
  {
   "cell_type": "code",
   "execution_count": 10,
   "metadata": {},
   "outputs": [
    {
     "name": "stdout",
     "output_type": "stream",
     "text": [
      "torch.Size([165, 6523])\n",
      "Input dimension for VAE: 1076295\n",
      "\n",
      "Linear VAE Model Architecture:\n",
      "VAE(\n",
      "  (encoder): Sequential(\n",
      "    (0): Linear(in_features=1076295, out_features=128, bias=True)\n",
      "    (1): BatchNorm1d(128, eps=1e-05, momentum=0.1, affine=True, track_running_stats=True)\n",
      "    (2): LeakyReLU(negative_slope=0.2)\n",
      "    (3): Linear(in_features=128, out_features=64, bias=True)\n",
      "    (4): BatchNorm1d(64, eps=1e-05, momentum=0.1, affine=True, track_running_stats=True)\n",
      "    (5): LeakyReLU(negative_slope=0.2)\n",
      "  )\n",
      "  (mean_layer): Linear(in_features=64, out_features=5, bias=True)\n",
      "  (var_layer): Linear(in_features=64, out_features=5, bias=True)\n",
      "  (decoder): Sequential(\n",
      "    (0): Linear(in_features=5, out_features=64, bias=True)\n",
      "    (1): BatchNorm1d(64, eps=1e-05, momentum=0.1, affine=True, track_running_stats=True)\n",
      "    (2): LeakyReLU(negative_slope=0.2)\n",
      "    (3): Linear(in_features=64, out_features=128, bias=True)\n",
      "    (4): BatchNorm1d(128, eps=1e-05, momentum=0.1, affine=True, track_running_stats=True)\n",
      "    (5): LeakyReLU(negative_slope=0.2)\n",
      "    (6): Linear(in_features=128, out_features=1076295, bias=True)\n",
      "    (7): Tanh()\n",
      "  )\n",
      ")\n",
      "\n",
      "Total parameters: 276,626,321\n",
      "\n",
      "Linear VAE Model Architecture:\n",
      "VAE(\n",
      "  (encoder): Sequential(\n",
      "    (0): Linear(in_features=1076295, out_features=128, bias=True)\n",
      "    (1): BatchNorm1d(128, eps=1e-05, momentum=0.1, affine=True, track_running_stats=True)\n",
      "    (2): LeakyReLU(negative_slope=0.2)\n",
      "    (3): Linear(in_features=128, out_features=64, bias=True)\n",
      "    (4): BatchNorm1d(64, eps=1e-05, momentum=0.1, affine=True, track_running_stats=True)\n",
      "    (5): LeakyReLU(negative_slope=0.2)\n",
      "  )\n",
      "  (mean_layer): Linear(in_features=64, out_features=5, bias=True)\n",
      "  (var_layer): Linear(in_features=64, out_features=5, bias=True)\n",
      "  (decoder): Sequential(\n",
      "    (0): Linear(in_features=5, out_features=64, bias=True)\n",
      "    (1): BatchNorm1d(64, eps=1e-05, momentum=0.1, affine=True, track_running_stats=True)\n",
      "    (2): LeakyReLU(negative_slope=0.2)\n",
      "    (3): Linear(in_features=64, out_features=128, bias=True)\n",
      "    (4): BatchNorm1d(128, eps=1e-05, momentum=0.1, affine=True, track_running_stats=True)\n",
      "    (5): LeakyReLU(negative_slope=0.2)\n",
      "    (6): Linear(in_features=128, out_features=1076295, bias=True)\n",
      "    (7): Tanh()\n",
      "  )\n",
      ")\n",
      "\n",
      "Total parameters: 276,626,321\n"
     ]
    }
   ],
   "source": [
    "# Initialize the Linear VAE model\n",
    "# Calculate input dimension from flattened sample\n",
    "sample = next(iter(train_loader))\n",
    "input_shape = sample['input'].shape[1:]\n",
    "print(input_shape)\n",
    "input_dim = np.prod(input_shape)\n",
    "print(f\"Input dimension for VAE: {input_dim}\")\n",
    "\n",
    "# Set VAE parameters\n",
    "hidden_dim = 128  # Increased for better representation\n",
    "latent_dim = 64   # Intermediate layer size\n",
    "z_dim = 50       # Actual latent space dimension\n",
    "# beta = 0.001      # Weight for KL divergence term -- not used in this version\n",
    "\n",
    "# Create the model\n",
    "vae_model = VAE(input_dim=input_dim, hidden_dim=hidden_dim, latent_dim=latent_dim, device=device).to(device)\n",
    "\n",
    "# Apply weight initialization\n",
    "# vae_model.apply(initialize_weights)\n",
    "\n",
    "# Define optimizer with weight decay for regularization\n",
    "optimizer = torch.optim.Adam(vae_model.parameters(), lr=3e-4) # Weight decay is not used in this version (was weight_decay=1e-5)\n",
    "\n",
    "# Print model summary\n",
    "print(\"\\nLinear VAE Model Architecture:\")\n",
    "print(vae_model)\n",
    "print(f\"\\nTotal parameters: {sum(p.numel() for p in vae_model.parameters() if p.requires_grad):,}\")"
   ]
  },
  {
   "cell_type": "code",
   "execution_count": null,
   "metadata": {},
   "outputs": [],
   "source": []
  },
  {
   "cell_type": "code",
   "execution_count": null,
   "metadata": {},
   "outputs": [],
   "source": []
  },
  {
   "cell_type": "code",
   "execution_count": null,
   "metadata": {},
   "outputs": [
    {
     "data": {
      "image/png": "[encoded data removed]",
      "text/plain": [
       "<Figure size 1000x600 with 1 Axes>"
      ]
     },
     "metadata": {},
     "output_type": "display_data"
    },
    {
     "name": "stdout",
     "output_type": "stream",
     "text": [
      "Final loss value: 3.38e+05\n"
     ]
    }
   ],
   "source": [
    "# Define custom loss function with BCE instead of MSE\n",
    "def custom_vae_loss(x, x_hat, mean, logvar, beta=0.001):\n",
    "    # Scale input data to [0, 1] range for BCE loss\n",
    "    x_scaled = (x + 1) / 2.0\n",
    "    x_hat_scaled = (x_hat + 1) / 2.0\n",
    "    \n",
    "    # BCE loss for reconstruction error\n",
    "    recon_loss = F.binary_cross_entropy(x_hat_scaled, x_scaled, reduction='sum')\n",
    "    \n",
    "    # KL divergence term\n",
    "    kl_loss = -0.5 * torch.sum(1 + logvar - mean.pow(2) - logvar.exp())\n",
    "    \n",
    "    # Total loss\n",
    "    return recon_loss + beta * kl_loss\n",
    "\n",
    "# Train the VAE\n",
    "epochs = 100\n",
    "losses = []\n",
    "\n",
    "vae_model.train()\n",
    "for epoch in tqdm(range(epochs)):\n",
    "    epoch_loss = 0\n",
    "    for batch in train_loader:\n",
    "        # Get the input and target data\n",
    "        x = batch['input'].view(batch['input'].size(0), -1).to(device)  # Flatten input\n",
    "        y = batch['output'].view(batch['output'].size(0), -1).to(device)  # Flatten target\n",
    "        \n",
    "        # Reset gradients\n",
    "        optimizer.zero_grad()\n",
    "        \n",
    "        # Forward pass\n",
    "        y_hat, mean, logvar = vae_model(x)\n",
    "        \n",
    "        # Compute loss using the custom BCE+KL loss function\n",
    "        loss = custom_vae_loss(y, y_hat, mean, logvar, beta=beta)\n",
    "        \n",
    "        # Backward pass\n",
    "        loss.backward()\n",
    "        \n",
    "        # Clip gradients for stability\n",
    "        torch.nn.utils.clip_grad_norm_(vae_model.parameters(), max_norm=1.0)\n",
    "        \n",
    "        # Update weights\n",
    "        optimizer.step()\n",
    "        \n",
    "        epoch_loss += loss.item()\n",
    "    \n",
    "    # Calculate average loss for this epoch\n",
    "    avg_loss = epoch_loss / len(train_loader.dataset)\n",
    "    losses.append(avg_loss)\n",
    "    \n",
    "    if epoch % 10 == 0:\n",
    "        print(f\"Epoch {epoch+1}/{epochs}, Loss: {avg_loss:.6f}\")"
   ]
  },
  {
   "cell_type": "code",
   "execution_count": null,
   "metadata": {},
   "outputs": [
    {
     "name": "stdout",
     "output_type": "stream",
     "text": [
      "torch.Size([8, 1076295])\n",
      "torch.Size([3, 1076295])\n",
      "Average test loss: 1.06e+06\n"
     ]
    }
   ],
   "source": [
    "# Plot the training loss\n",
    "plt.figure(figsize=(12, 6))\n",
    "plt.plot(losses, label='Training Loss')\n",
    "plt.legend()\n",
    "plt.title('VAE Training Loss (BCE + KL) per Epoch')\n",
    "plt.xlabel('Epoch')\n",
    "plt.ylabel('Loss')\n",
    "plt.grid(True)\n",
    "plt.yscale('log')  # Using log scale to better visualize the decreasing loss\n",
    "plt.tight_layout()\n",
    "plt.show()\n",
    "\n",
    "# Print the final loss value\n",
    "print(f\"Final loss value: {losses[-1]:.6f}\")"
   ]
  },
  {
   "cell_type": "code",
   "execution_count": null,
   "metadata": {},
   "outputs": [],
   "source": [
    "# Evaluate VAE and generate animations\n",
    "vae_model.eval()  # Set the model to evaluation mode\n",
    "\n",
    "# Get the raw test data for one model example\n",
    "example_model = list(normalized_test_data.keys())[0]\n",
    "test_runs = [run for run in normalized_test_data[example_model].keys() if run != 'forced_response']\n",
    "ground_truth = normalized_test_data[example_model]['forced_response']\n",
    "\n",
    "# Set the number of test runs to visualize\n",
    "num_runs = min(3, len(test_runs))\n",
    "\n",
    "# Create a figure to show the animations\n",
    "from IPython.display import display, HTML\n",
    "\n",
    "# Find min/max values for consistent color limits\n",
    "all_data = []\n",
    "for run in test_runs[:num_runs]:\n",
    "    all_data.append(normalized_test_data[example_model][run])\n",
    "all_data.append(ground_truth)\n",
    "all_data = np.concatenate(all_data)\n",
    "vmin, vmax = np.nanmin(all_data), np.nanmax(all_data)\n",
    "color_limits = (vmin, vmax)\n",
    "print(f\"Color limits: {vmin:.4f}, {vmax:.4f}\")\n",
    "\n",
    "# Process each test run\n",
    "for counter, run in enumerate(test_runs[:num_runs]):\n",
    "    print(f\"\\nProcessing run {counter+1}/{num_runs}...\")\n",
    "    \n",
    "    # Get the test run data\n",
    "    test_run = normalized_test_data[example_model][run]\n",
    "    original_shape = test_run.shape\n",
    "    \n",
    "    # Flatten and convert to tensor\n",
    "    x_test = torch.tensor(test_run.flatten(), dtype=torch.float32).unsqueeze(0).to(device)\n",
    "    \n",
    "    # Generate reconstruction using VAE\n",
    "    with torch.no_grad():\n",
    "        reconstruction, _, _ = vae_model(x_test)\n",
    "    \n",
    "    # Convert back to numpy and reshape to original dimensions\n",
    "    prediction = reconstruction.cpu().squeeze(0).numpy().reshape(original_shape)\n",
    "    \n",
    "    # Re-add NaN values to the data matrices\n",
    "    prediction = readd_nans_to_grid(prediction, nan_mask, predictions=True)\n",
    "    test_run_with_nans = readd_nans_to_grid(test_run, nan_mask, predictions=True)\n",
    "    ground_truth_with_nans = readd_nans_to_grid(ground_truth, nan_mask, predictions=True)\n",
    "    \n",
    "    # Calculate MSE\n",
    "    test_mse = calculate_mse(test_run, None, ground_truth)\n",
    "    pred_mse = calculate_mse(prediction, None, ground_truth)\n",
    "    \n",
    "    print(f\"Input MSE: {test_mse:.4f}\")\n",
    "    print(f\"Prediction MSE: {pred_mse:.4f}\")\n",
    "    \n",
    "    # Create animations\n",
    "    pred_animation = animate_data(\n",
    "        prediction,\n",
    "        title=f'VAE Reconstruction (BCE): {example_model} - {run} (MSE: {pred_mse:.4f})',\n",
    "        interval=200,\n",
    "        cmap='viridis',\n",
    "        color_limits=color_limits\n",
    "    )\n",
    "    \n",
    "    input_animation = animate_data(\n",
    "        test_run_with_nans,\n",
    "        title=f'Input: {example_model} - {run} (MSE: {test_mse:.4f})',\n",
    "        interval=200,\n",
    "        cmap='viridis',\n",
    "        color_limits=color_limits\n",
    "    )\n",
    "    \n",
    "    ground_truth_animation = animate_data(\n",
    "        ground_truth_with_nans,\n",
    "        title=f'Ground Truth: {example_model}',\n",
    "        interval=200,\n",
    "        cmap='viridis',\n",
    "        color_limits=color_limits\n",
    "    )\n",
    "    \n",
    "    # Display the animations\n",
    "    print(f\"\\nRun {counter+1} - Input:\")\n",
    "    display(HTML(input_animation.to_html5_video()))\n",
    "    \n",
    "    print(f\"\\nRun {counter+1} - Ground Truth:\")\n",
    "    display(HTML(ground_truth_animation.to_html5_video()))\n",
    "    \n",
    "    print(f\"\\nRun {counter+1} - VAE Reconstruction:\")\n",
    "    display(HTML(pred_animation.to_html5_video()))"
   ]
  }
 ],
 "metadata": {
  "kernelspec": {
   "display_name": "main",
   "language": "python",
   "name": "python3"
  },
  "language_info": {
   "codemirror_mode": {
    "name": "ipython",
    "version": 3
   },
   "file_extension": ".py",
   "mimetype": "text/x-python",
   "name": "python",
   "nbconvert_exporter": "python",
   "pygments_lexer": "ipython3",
   "version": "3.10.16"
  }
 },
 "nbformat": 4,
 "nbformat_minor": 2
}
